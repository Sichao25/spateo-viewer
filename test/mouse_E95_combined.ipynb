{
 "cells": [
  {
   "cell_type": "code",
   "execution_count": 1,
   "metadata": {
    "collapsed": true,
    "ExecuteTime": {
     "end_time": "2023-07-11T16:59:09.945467634Z",
     "start_time": "2023-07-11T16:59:03.626211838Z"
    }
   },
   "outputs": [
    {
     "name": "stderr",
     "output_type": "stream",
     "text": [
      "2023-07-12 00:59:06.367035: W tensorflow/compiler/tf2tensorrt/utils/py_utils.cc:38] TF-TRT Warning: Could not find TensorRT\n"
     ]
    }
   ],
   "source": [
    "import os\n",
    "\n",
    "import anndata as ad\n",
    "import spateo as st\n",
    "import numpy as np\n",
    "import matplotlib.pyplot as plt"
   ]
  },
  {
   "cell_type": "code",
   "execution_count": 2,
   "outputs": [
    {
     "data": {
      "text/plain": "(['S10_D02068A5_1.cellbin.louvain_r3.transf_anno_E95.h5ad',\n  'S10_D02068A5_2.cellbin.louvain_r3.transf_anno_E95.h5ad',\n  'S12_D02068B5_1.cellbin.louvain_r3.transf_anno_E95.h5ad',\n  'S12_D02068B5_2.cellbin.louvain_r3.transf_anno_E95.h5ad',\n  'S13_D02068B6_1.cellbin.louvain_r3.transf_anno_E95.h5ad',\n  'S13_D02068B6_2.cellbin.louvain_r3.transf_anno_E95.h5ad',\n  'S14_D02068B3_1.cellbin.louvain_r3.transf_anno_E95.h5ad',\n  'S14_D02068B3_2.cellbin.louvain_r3.transf_anno_E95.h5ad',\n  'S15_D02068E1_1.cellbin.louvain_r3.transf_anno_E95.h5ad',\n  'S15_D02068E1_2.cellbin.louvain_r3.transf_anno_E95.h5ad',\n  'S16_D02068E6_1.cellbin.louvain_r3.transf_anno_E95.h5ad',\n  'S16_D02068E6_2.cellbin.louvain_r3.transf_anno_E95.h5ad',\n  'S17_D02068D4_1.cellbin.louvain_r3.transf_anno_E95.h5ad',\n  'S17_D02068D4_2.cellbin.louvain_r3.transf_anno_E95.h5ad',\n  'S18_D02068B1_1.cellbin.louvain_r3.transf_anno_E95.h5ad',\n  'S18_D02068B1_2.cellbin.louvain_r3.transf_anno_E95.h5ad',\n  'S19_D02068F1_1.cellbin.louvain_r3.transf_anno_E95.h5ad',\n  'S19_D02068F1_2.cellbin.louvain_r3.transf_anno_E95.h5ad',\n  'S20_D02068F3_1.cellbin.louvain_r3.transf_anno_E95.h5ad',\n  'S20_D02068F3_2.cellbin.louvain_r3.transf_anno_E95.h5ad',\n  'S21_C01940E3_1.cellbin.louvain_r3.transf_anno_E95.h5ad',\n  'S21_C01940E3_2.cellbin.louvain_r3.transf_anno_E95.h5ad',\n  'S22_C01940E4_1.cellbin.louvain_r3.transf_anno_E95.h5ad',\n  'S22_C01940E4_2.cellbin.louvain_r3.transf_anno_E95.h5ad',\n  'S23_C01940B1_1.cellbin.louvain_r3.transf_anno_E95.h5ad',\n  'S23_C01940B1_2.cellbin.louvain_r3.transf_anno_E95.h5ad',\n  'S24_C01940B2_1.cellbin.louvain_r3.transf_anno_E95.h5ad',\n  'S24_C01940B2_2.cellbin.louvain_r3.transf_anno_E95.h5ad',\n  'S26_C01940B4_1.cellbin.louvain_r3.transf_anno_E95.h5ad',\n  'S26_C01940B4_2.cellbin.louvain_r3.transf_anno_E95.h5ad',\n  'S29_A01892A3_1.cellbin.louvain_r3.transf_anno_E95.h5ad',\n  'S29_A01892A3_2.cellbin.louvain_r3.transf_anno_E95.h5ad',\n  'S30_D02069C5_1.cellbin.louvain_r3.transf_anno_E95.h5ad',\n  'S30_D02069C5_2.cellbin.louvain_r3.transf_anno_E95.h5ad',\n  'S33_A01892C3_1.cellbin.louvain_r3.transf_anno_E95.h5ad',\n  'S33_A01892C3_2.cellbin.louvain_r3.transf_anno_E95.h5ad',\n  'S34_A01892C4_1.cellbin.louvain_r3.transf_anno_E95.h5ad',\n  'S34_A01892C4_2.cellbin.louvain_r3.transf_anno_E95.h5ad',\n  'S35_A01892C5_1.cellbin.louvain_r3.transf_anno_E95.h5ad',\n  'S35_A01892C5_2.cellbin.louvain_r3.transf_anno_E95.h5ad',\n  'S36_A01892C6_1.cellbin.louvain_r3.transf_anno_E95.h5ad',\n  'S36_A01892C6_2.cellbin.louvain_r3.transf_anno_E95.h5ad',\n  'S37_C01940B5_1.cellbin.louvain_r3.transf_anno_E95.h5ad',\n  'S37_C01940B5_2.cellbin.louvain_r3.transf_anno_E95.h5ad',\n  'S39_C01940C1_1.cellbin.louvain_r3.transf_anno_E95.h5ad',\n  'S39_C01940C1_2.cellbin.louvain_r3.transf_anno_E95.h5ad',\n  'S40_C01940C3_1.cellbin.louvain_r3.transf_anno_E95.h5ad',\n  'S40_C01940C3_2.cellbin.louvain_r3.transf_anno_E95.h5ad',\n  'S41_C01940F4_1.cellbin.louvain_r3.transf_anno_E95.h5ad',\n  'S41_C01940F4_2.cellbin.louvain_r3.transf_anno_E95.h5ad',\n  'S43_C01940F6_1.cellbin.louvain_r3.transf_anno_E95.h5ad',\n  'S43_C01940F6_2.cellbin.louvain_r3.transf_anno_E95.h5ad',\n  'S44_C01941A2_1.cellbin.louvain_r3.transf_anno_E95.h5ad',\n  'S44_C01941A2_2.cellbin.louvain_r3.transf_anno_E95.h5ad',\n  'S45_C01940D3_1.cellbin.louvain_r3.transf_anno_E95.h5ad',\n  'S45_C01940D3_2.cellbin.louvain_r3.transf_anno_E95.h5ad',\n  'S46_C01940E5_1.cellbin.louvain_r3.transf_anno_E95.h5ad',\n  'S46_C01940E5_2.cellbin.louvain_r3.transf_anno_E95.h5ad',\n  'S47_C01940E6_1.cellbin.louvain_r3.transf_anno_E95.h5ad',\n  'S47_C01940E6_2.cellbin.louvain_r3.transf_anno_E95.h5ad',\n  'S4_A02183D5_1.cellbin.louvain_r3.transf_anno_E95.h5ad',\n  'S4_A02183D5_2.cellbin.louvain_r3.transf_anno_E95.h5ad',\n  'S5_A02183C2_1.cellbin.louvain_r3.transf_anno_E95.h5ad',\n  'S5_A02183C2_2.cellbin.louvain_r3.transf_anno_E95.h5ad',\n  'S6_A02183C5_1.cellbin.louvain_r3.transf_anno_E95.h5ad',\n  'S6_A02183C5_2.cellbin.louvain_r3.transf_anno_E95.h5ad',\n  'S8_A02183E3_1.cellbin.louvain_r3.transf_anno_E95.h5ad',\n  'S8_A02183E3_2.cellbin.louvain_r3.transf_anno_E95.h5ad',\n  'S9_D02068A6_1.cellbin.louvain_r3.transf_anno_E95.h5ad',\n  'S9_D02068A6_2.cellbin.louvain_r3.transf_anno_E95.h5ad'],\n 70)"
     },
     "execution_count": 2,
     "metadata": {},
     "output_type": "execute_result"
    }
   ],
   "source": [
    "os.chdir(\"/media/pc001/Yao/Projects/Project_spateo/Data/mouse_embryo/mouse_E95\")\n",
    "folder = \"slices\"\n",
    "files = [fn for root1, dirs1, files in os.walk(folder) for fn in files]\n",
    "files.sort()\n",
    "files, len(files)"
   ],
   "metadata": {
    "collapsed": false,
    "ExecuteTime": {
     "end_time": "2023-07-11T16:59:10.698535932Z",
     "start_time": "2023-07-11T16:59:09.948163246Z"
    }
   }
  },
  {
   "cell_type": "code",
   "execution_count": 3,
   "outputs": [
    {
     "name": "stdout",
     "output_type": "stream",
     "text": [
      "[12 13 16 17 18 19 20 21 22 23 24 25 26 27 28 29 30 31 32 33 34 35 36 37\n",
      " 38 39 40 41 44 45 50 51 52 53 58 59 60 61 62 63 64 65 66 67 70 71 72 73\n",
      " 74 75 78 79 80 81 82 83 84 85 86 87  0  1  2  3  4  5  8  9 10 11]\n"
     ]
    }
   ],
   "source": [
    "slice_ids = []\n",
    "for fn in files:\n",
    "    slice_id = str(fn).split(\".\")[0]\n",
    "    if slice_id.endswith(\"1\"):\n",
    "        slice_ids.append(int(slice_id.split(\"_\")[0][1:]) * 2)\n",
    "    else:\n",
    "        slice_ids.append(int(slice_id.split(\"_\")[0][1:]) * 2 + 1)\n",
    "slice_ids = slice_ids - np.min(slice_ids)\n",
    "print(slice_ids)"
   ],
   "metadata": {
    "collapsed": false,
    "ExecuteTime": {
     "end_time": "2023-07-11T16:59:10.706314849Z",
     "start_time": "2023-07-11T16:59:10.697258178Z"
    }
   }
  },
  {
   "cell_type": "code",
   "execution_count": 4,
   "outputs": [
    {
     "name": "stdout",
     "output_type": "stream",
     "text": [
      "AnnData object with n_obs × n_vars = 18520 × 26659\n",
      "    obs: 'Area', 'Louvain', 'Annotation', 'SliceID'\n",
      "    uns: '__type', 'pp'\n",
      "    obsm: 'spatial', 'raw_spatial'\n",
      "AnnData object with n_obs × n_vars = 18322 × 26659\n",
      "    obs: 'Area', 'Louvain', 'Annotation', 'SliceID'\n",
      "    uns: '__type', 'pp'\n",
      "    obsm: 'spatial', 'raw_spatial'\n",
      "AnnData object with n_obs × n_vars = 17856 × 24355\n",
      "    obs: 'Area', 'Louvain', 'Annotation', 'SliceID'\n",
      "    uns: '__type', 'pp'\n",
      "    obsm: 'spatial', 'raw_spatial'\n",
      "AnnData object with n_obs × n_vars = 13781 × 24355\n",
      "    obs: 'Area', 'Louvain', 'Annotation', 'SliceID'\n",
      "    uns: '__type', 'pp'\n",
      "    obsm: 'spatial', 'raw_spatial'\n",
      "AnnData object with n_obs × n_vars = 16549 × 24532\n",
      "    obs: 'Area', 'Louvain', 'Annotation', 'SliceID'\n",
      "    uns: '__type', 'pp'\n",
      "    obsm: 'spatial', 'raw_spatial'\n",
      "AnnData object with n_obs × n_vars = 16022 × 24532\n",
      "    obs: 'Area', 'Louvain', 'Annotation', 'SliceID'\n",
      "    uns: '__type', 'pp'\n",
      "    obsm: 'spatial', 'raw_spatial'\n",
      "AnnData object with n_obs × n_vars = 12120 × 24044\n",
      "    obs: 'Area', 'Louvain', 'Annotation', 'SliceID'\n",
      "    uns: '__type', 'pp'\n",
      "    obsm: 'spatial', 'raw_spatial'\n",
      "AnnData object with n_obs × n_vars = 12519 × 24044\n",
      "    obs: 'Area', 'Louvain', 'Annotation', 'SliceID'\n",
      "    uns: '__type', 'pp'\n",
      "    obsm: 'spatial', 'raw_spatial'\n",
      "AnnData object with n_obs × n_vars = 11578 × 24282\n",
      "    obs: 'Area', 'Louvain', 'Annotation', 'SliceID'\n",
      "    uns: '__type', 'pp'\n",
      "    obsm: 'spatial', 'raw_spatial'\n",
      "AnnData object with n_obs × n_vars = 14106 × 24282\n",
      "    obs: 'Area', 'Louvain', 'Annotation', 'SliceID'\n",
      "    uns: '__type', 'pp'\n",
      "    obsm: 'spatial', 'raw_spatial'\n",
      "AnnData object with n_obs × n_vars = 11110 × 24633\n",
      "    obs: 'Area', 'Louvain', 'Annotation', 'SliceID'\n",
      "    uns: '__type', 'pp'\n",
      "    obsm: 'spatial', 'raw_spatial'\n",
      "AnnData object with n_obs × n_vars = 10962 × 24633\n",
      "    obs: 'Area', 'Louvain', 'Annotation', 'SliceID'\n",
      "    uns: '__type', 'pp'\n",
      "    obsm: 'spatial', 'raw_spatial'\n",
      "AnnData object with n_obs × n_vars = 20196 × 25840\n",
      "    obs: 'Area', 'Louvain', 'Annotation', 'SliceID'\n",
      "    uns: '__type', 'pp'\n",
      "    obsm: 'spatial', 'raw_spatial'\n",
      "AnnData object with n_obs × n_vars = 17728 × 25840\n",
      "    obs: 'Area', 'Louvain', 'Annotation', 'SliceID'\n",
      "    uns: '__type', 'pp'\n",
      "    obsm: 'spatial', 'raw_spatial'\n",
      "AnnData object with n_obs × n_vars = 16190 × 26364\n",
      "    obs: 'Area', 'Louvain', 'Annotation', 'SliceID'\n",
      "    uns: '__type', 'pp'\n",
      "    obsm: 'spatial', 'raw_spatial'\n",
      "AnnData object with n_obs × n_vars = 14594 × 26364\n",
      "    obs: 'Area', 'Louvain', 'Annotation', 'SliceID'\n",
      "    uns: '__type', 'pp'\n",
      "    obsm: 'spatial', 'raw_spatial'\n",
      "AnnData object with n_obs × n_vars = 17425 × 26137\n",
      "    obs: 'Area', 'Louvain', 'Annotation', 'SliceID'\n",
      "    uns: '__type', 'pp'\n",
      "    obsm: 'spatial', 'raw_spatial'\n",
      "AnnData object with n_obs × n_vars = 19939 × 26137\n",
      "    obs: 'Area', 'Louvain', 'Annotation', 'SliceID'\n",
      "    uns: '__type', 'pp'\n",
      "    obsm: 'spatial', 'raw_spatial'\n",
      "AnnData object with n_obs × n_vars = 15914 × 26250\n",
      "    obs: 'Area', 'Louvain', 'Annotation', 'SliceID'\n",
      "    uns: '__type', 'pp'\n",
      "    obsm: 'spatial', 'raw_spatial'\n",
      "AnnData object with n_obs × n_vars = 18121 × 26250\n",
      "    obs: 'Area', 'Louvain', 'Annotation', 'SliceID'\n",
      "    uns: '__type', 'pp'\n",
      "    obsm: 'spatial', 'raw_spatial'\n",
      "AnnData object with n_obs × n_vars = 14860 × 24739\n",
      "    obs: 'Area', 'Louvain', 'Annotation', 'SliceID'\n",
      "    uns: '__type', 'pp'\n",
      "    obsm: 'spatial', 'raw_spatial'\n",
      "AnnData object with n_obs × n_vars = 15375 × 24739\n",
      "    obs: 'Area', 'Louvain', 'Annotation', 'SliceID'\n",
      "    uns: '__type', 'pp'\n",
      "    obsm: 'spatial', 'raw_spatial'\n",
      "AnnData object with n_obs × n_vars = 9429 × 24114\n",
      "    obs: 'Area', 'Louvain', 'Annotation', 'SliceID'\n",
      "    uns: '__type', 'pp'\n",
      "    obsm: 'spatial', 'raw_spatial'\n",
      "AnnData object with n_obs × n_vars = 12288 × 24114\n",
      "    obs: 'Area', 'Louvain', 'Annotation', 'SliceID'\n",
      "    uns: '__type', 'pp'\n",
      "    obsm: 'spatial', 'raw_spatial'\n",
      "AnnData object with n_obs × n_vars = 10247 × 25955\n",
      "    obs: 'Area', 'Louvain', 'Annotation', 'SliceID'\n",
      "    uns: '__type', 'pp'\n",
      "    obsm: 'spatial', 'raw_spatial'\n",
      "AnnData object with n_obs × n_vars = 8554 × 25955\n",
      "    obs: 'Area', 'Louvain', 'Annotation', 'SliceID'\n",
      "    uns: '__type', 'pp'\n",
      "    obsm: 'spatial', 'raw_spatial'\n",
      "AnnData object with n_obs × n_vars = 7512 × 24466\n",
      "    obs: 'Area', 'Louvain', 'Annotation', 'SliceID'\n",
      "    uns: '__type', 'pp'\n",
      "    obsm: 'spatial', 'raw_spatial'\n",
      "AnnData object with n_obs × n_vars = 3042 × 24466\n",
      "    obs: 'Area', 'Louvain', 'Annotation', 'SliceID'\n",
      "    uns: '__type', 'pp'\n",
      "    obsm: 'spatial', 'raw_spatial'\n",
      "AnnData object with n_obs × n_vars = 16845 × 27453\n",
      "    obs: 'Area', 'Louvain', 'Annotation', 'SliceID'\n",
      "    uns: '__type', 'pp'\n",
      "    obsm: 'spatial', 'raw_spatial'\n",
      "AnnData object with n_obs × n_vars = 16351 × 27453\n",
      "    obs: 'Area', 'Louvain', 'Annotation', 'SliceID'\n",
      "    uns: '__type', 'pp'\n",
      "    obsm: 'spatial', 'raw_spatial'\n",
      "AnnData object with n_obs × n_vars = 10677 × 21993\n",
      "    obs: 'Area', 'Louvain', 'Annotation', 'SliceID'\n",
      "    uns: '__type', 'pp'\n",
      "    obsm: 'spatial', 'raw_spatial'\n",
      "AnnData object with n_obs × n_vars = 12624 × 21993\n",
      "    obs: 'Area', 'Louvain', 'Annotation', 'SliceID'\n",
      "    uns: '__type', 'pp'\n",
      "    obsm: 'spatial', 'raw_spatial'\n",
      "AnnData object with n_obs × n_vars = 10232 × 22886\n",
      "    obs: 'Area', 'Louvain', 'Annotation', 'SliceID'\n",
      "    uns: '__type', 'pp'\n",
      "    obsm: 'spatial', 'raw_spatial'\n",
      "AnnData object with n_obs × n_vars = 10788 × 22886\n",
      "    obs: 'Area', 'Louvain', 'Annotation', 'SliceID'\n",
      "    uns: '__type', 'pp'\n",
      "    obsm: 'spatial', 'raw_spatial'\n",
      "AnnData object with n_obs × n_vars = 9223 × 27859\n",
      "    obs: 'Area', 'Louvain', 'Annotation', 'SliceID'\n",
      "    uns: '__type', 'pp'\n",
      "    obsm: 'spatial', 'raw_spatial'\n",
      "AnnData object with n_obs × n_vars = 8358 × 27859\n",
      "    obs: 'Area', 'Louvain', 'Annotation', 'SliceID'\n",
      "    uns: '__type', 'pp'\n",
      "    obsm: 'spatial', 'raw_spatial'\n",
      "AnnData object with n_obs × n_vars = 7974 × 26628\n",
      "    obs: 'Area', 'Louvain', 'Annotation', 'SliceID'\n",
      "    uns: '__type', 'pp'\n",
      "    obsm: 'spatial', 'raw_spatial'\n",
      "AnnData object with n_obs × n_vars = 7910 × 26628\n",
      "    obs: 'Area', 'Louvain', 'Annotation', 'SliceID'\n",
      "    uns: '__type', 'pp'\n",
      "    obsm: 'spatial', 'raw_spatial'\n",
      "AnnData object with n_obs × n_vars = 6756 × 26043\n",
      "    obs: 'Area', 'Louvain', 'Annotation', 'SliceID'\n",
      "    uns: '__type', 'pp'\n",
      "    obsm: 'spatial', 'raw_spatial'\n",
      "AnnData object with n_obs × n_vars = 7220 × 26043\n",
      "    obs: 'Area', 'Louvain', 'Annotation', 'SliceID'\n",
      "    uns: '__type', 'pp'\n",
      "    obsm: 'spatial', 'raw_spatial'\n",
      "AnnData object with n_obs × n_vars = 7072 × 24515\n",
      "    obs: 'Area', 'Louvain', 'Annotation', 'SliceID'\n",
      "    uns: '__type', 'pp'\n",
      "    obsm: 'spatial', 'raw_spatial'\n",
      "AnnData object with n_obs × n_vars = 6272 × 24515\n",
      "    obs: 'Area', 'Louvain', 'Annotation', 'SliceID'\n",
      "    uns: '__type', 'pp'\n",
      "    obsm: 'spatial', 'raw_spatial'\n",
      "AnnData object with n_obs × n_vars = 4906 × 23746\n",
      "    obs: 'Area', 'Louvain', 'Annotation', 'SliceID'\n",
      "    uns: '__type', 'pp'\n",
      "    obsm: 'spatial', 'raw_spatial'\n",
      "AnnData object with n_obs × n_vars = 4633 × 23746\n",
      "    obs: 'Area', 'Louvain', 'Annotation', 'SliceID'\n",
      "    uns: '__type', 'pp'\n",
      "    obsm: 'spatial', 'raw_spatial'\n",
      "AnnData object with n_obs × n_vars = 3222 × 23389\n",
      "    obs: 'Area', 'Louvain', 'Annotation', 'SliceID'\n",
      "    uns: '__type', 'pp'\n",
      "    obsm: 'spatial', 'raw_spatial'\n",
      "AnnData object with n_obs × n_vars = 1473 × 23389\n",
      "    obs: 'Area', 'Louvain', 'Annotation', 'SliceID'\n",
      "    uns: '__type', 'pp'\n",
      "    obsm: 'spatial', 'raw_spatial'\n",
      "AnnData object with n_obs × n_vars = 2200 × 23853\n",
      "    obs: 'Area', 'Louvain', 'Annotation', 'SliceID'\n",
      "    uns: '__type', 'pp'\n",
      "    obsm: 'spatial', 'raw_spatial'\n",
      "AnnData object with n_obs × n_vars = 1410 × 23853\n",
      "    obs: 'Area', 'Louvain', 'Annotation', 'SliceID'\n",
      "    uns: '__type', 'pp'\n",
      "    obsm: 'spatial', 'raw_spatial'\n",
      "AnnData object with n_obs × n_vars = 3789 × 23974\n",
      "    obs: 'Area', 'Louvain', 'Annotation', 'SliceID'\n",
      "    uns: '__type', 'pp'\n",
      "    obsm: 'spatial', 'raw_spatial'\n",
      "AnnData object with n_obs × n_vars = 3678 × 23974\n",
      "    obs: 'Area', 'Louvain', 'Annotation', 'SliceID'\n",
      "    uns: '__type', 'pp'\n",
      "    obsm: 'spatial', 'raw_spatial'\n",
      "AnnData object with n_obs × n_vars = 2558 × 23199\n",
      "    obs: 'Area', 'Louvain', 'Annotation', 'SliceID'\n",
      "    uns: '__type', 'pp'\n",
      "    obsm: 'spatial', 'raw_spatial'\n",
      "AnnData object with n_obs × n_vars = 2680 × 23199\n",
      "    obs: 'Area', 'Louvain', 'Annotation', 'SliceID'\n",
      "    uns: '__type', 'pp'\n",
      "    obsm: 'spatial', 'raw_spatial'\n",
      "AnnData object with n_obs × n_vars = 2382 × 23843\n",
      "    obs: 'Area', 'Louvain', 'Annotation', 'SliceID'\n",
      "    uns: '__type', 'pp'\n",
      "    obsm: 'spatial', 'raw_spatial'\n",
      "AnnData object with n_obs × n_vars = 2426 × 23843\n",
      "    obs: 'Area', 'Louvain', 'Annotation', 'SliceID'\n",
      "    uns: '__type', 'pp'\n",
      "    obsm: 'spatial', 'raw_spatial'\n",
      "AnnData object with n_obs × n_vars = 1735 × 22607\n",
      "    obs: 'Area', 'Louvain', 'Annotation', 'SliceID'\n",
      "    uns: '__type', 'pp'\n",
      "    obsm: 'spatial', 'raw_spatial'\n",
      "AnnData object with n_obs × n_vars = 1682 × 22607\n",
      "    obs: 'Area', 'Louvain', 'Annotation', 'SliceID'\n",
      "    uns: '__type', 'pp'\n",
      "    obsm: 'spatial', 'raw_spatial'\n",
      "AnnData object with n_obs × n_vars = 1188 × 22155\n",
      "    obs: 'Area', 'Louvain', 'Annotation', 'SliceID'\n",
      "    uns: '__type', 'pp'\n",
      "    obsm: 'spatial', 'raw_spatial'\n",
      "AnnData object with n_obs × n_vars = 1134 × 22155\n",
      "    obs: 'Area', 'Louvain', 'Annotation', 'SliceID'\n",
      "    uns: '__type', 'pp'\n",
      "    obsm: 'spatial', 'raw_spatial'\n",
      "AnnData object with n_obs × n_vars = 305 × 20034\n",
      "    obs: 'Area', 'Louvain', 'Annotation', 'SliceID'\n",
      "    uns: '__type', 'pp'\n",
      "    obsm: 'spatial', 'raw_spatial'\n",
      "AnnData object with n_obs × n_vars = 421 × 20034\n",
      "    obs: 'Area', 'Louvain', 'Annotation', 'SliceID'\n",
      "    uns: '__type', 'pp'\n",
      "    obsm: 'spatial', 'raw_spatial'\n",
      "AnnData object with n_obs × n_vars = 7828 × 24418\n",
      "    obs: 'Area', 'Louvain', 'Annotation', 'SliceID'\n",
      "    uns: '__type', 'pp'\n",
      "    obsm: 'spatial', 'raw_spatial'\n",
      "AnnData object with n_obs × n_vars = 16150 × 24418\n",
      "    obs: 'Area', 'Louvain', 'Annotation', 'SliceID'\n",
      "    uns: '__type', 'pp'\n",
      "    obsm: 'spatial', 'raw_spatial'\n",
      "AnnData object with n_obs × n_vars = 15169 × 23495\n",
      "    obs: 'Area', 'Louvain', 'Annotation', 'SliceID'\n",
      "    uns: '__type', 'pp'\n",
      "    obsm: 'spatial', 'raw_spatial'\n",
      "AnnData object with n_obs × n_vars = 12911 × 23495\n",
      "    obs: 'Area', 'Louvain', 'Annotation', 'SliceID'\n",
      "    uns: '__type', 'pp'\n",
      "    obsm: 'spatial', 'raw_spatial'\n",
      "AnnData object with n_obs × n_vars = 10855 × 24088\n",
      "    obs: 'Area', 'Louvain', 'Annotation', 'SliceID'\n",
      "    uns: '__type', 'pp'\n",
      "    obsm: 'spatial', 'raw_spatial'\n",
      "AnnData object with n_obs × n_vars = 13785 × 24088\n",
      "    obs: 'Area', 'Louvain', 'Annotation', 'SliceID'\n",
      "    uns: '__type', 'pp'\n",
      "    obsm: 'spatial', 'raw_spatial'\n",
      "AnnData object with n_obs × n_vars = 9170 × 24974\n",
      "    obs: 'Area', 'Louvain', 'Annotation', 'SliceID'\n",
      "    uns: '__type', 'pp'\n",
      "    obsm: 'spatial', 'raw_spatial'\n",
      "AnnData object with n_obs × n_vars = 4341 × 24974\n",
      "    obs: 'Area', 'Louvain', 'Annotation', 'SliceID'\n",
      "    uns: '__type', 'pp'\n",
      "    obsm: 'spatial', 'raw_spatial'\n",
      "AnnData object with n_obs × n_vars = 18933 × 26188\n",
      "    obs: 'Area', 'Louvain', 'Annotation', 'SliceID'\n",
      "    uns: '__type', 'pp'\n",
      "    obsm: 'spatial', 'raw_spatial'\n",
      "AnnData object with n_obs × n_vars = 16021 × 26188\n",
      "    obs: 'Area', 'Louvain', 'Annotation', 'SliceID'\n",
      "    uns: '__type', 'pp'\n",
      "    obsm: 'spatial', 'raw_spatial'\n"
     ]
    },
    {
     "data": {
      "text/plain": "[AnnData object with n_obs × n_vars = 18520 × 26659\n     obs: 'Area', 'Louvain', 'Annotation', 'SliceID'\n     uns: '__type', 'pp'\n     obsm: 'spatial', 'raw_spatial',\n AnnData object with n_obs × n_vars = 18322 × 26659\n     obs: 'Area', 'Louvain', 'Annotation', 'SliceID'\n     uns: '__type', 'pp'\n     obsm: 'spatial', 'raw_spatial',\n AnnData object with n_obs × n_vars = 17856 × 24355\n     obs: 'Area', 'Louvain', 'Annotation', 'SliceID'\n     uns: '__type', 'pp'\n     obsm: 'spatial', 'raw_spatial',\n AnnData object with n_obs × n_vars = 13781 × 24355\n     obs: 'Area', 'Louvain', 'Annotation', 'SliceID'\n     uns: '__type', 'pp'\n     obsm: 'spatial', 'raw_spatial',\n AnnData object with n_obs × n_vars = 16549 × 24532\n     obs: 'Area', 'Louvain', 'Annotation', 'SliceID'\n     uns: '__type', 'pp'\n     obsm: 'spatial', 'raw_spatial',\n AnnData object with n_obs × n_vars = 16022 × 24532\n     obs: 'Area', 'Louvain', 'Annotation', 'SliceID'\n     uns: '__type', 'pp'\n     obsm: 'spatial', 'raw_spatial',\n AnnData object with n_obs × n_vars = 12120 × 24044\n     obs: 'Area', 'Louvain', 'Annotation', 'SliceID'\n     uns: '__type', 'pp'\n     obsm: 'spatial', 'raw_spatial',\n AnnData object with n_obs × n_vars = 12519 × 24044\n     obs: 'Area', 'Louvain', 'Annotation', 'SliceID'\n     uns: '__type', 'pp'\n     obsm: 'spatial', 'raw_spatial',\n AnnData object with n_obs × n_vars = 11578 × 24282\n     obs: 'Area', 'Louvain', 'Annotation', 'SliceID'\n     uns: '__type', 'pp'\n     obsm: 'spatial', 'raw_spatial',\n AnnData object with n_obs × n_vars = 14106 × 24282\n     obs: 'Area', 'Louvain', 'Annotation', 'SliceID'\n     uns: '__type', 'pp'\n     obsm: 'spatial', 'raw_spatial',\n AnnData object with n_obs × n_vars = 11110 × 24633\n     obs: 'Area', 'Louvain', 'Annotation', 'SliceID'\n     uns: '__type', 'pp'\n     obsm: 'spatial', 'raw_spatial',\n AnnData object with n_obs × n_vars = 10962 × 24633\n     obs: 'Area', 'Louvain', 'Annotation', 'SliceID'\n     uns: '__type', 'pp'\n     obsm: 'spatial', 'raw_spatial',\n AnnData object with n_obs × n_vars = 20196 × 25840\n     obs: 'Area', 'Louvain', 'Annotation', 'SliceID'\n     uns: '__type', 'pp'\n     obsm: 'spatial', 'raw_spatial',\n AnnData object with n_obs × n_vars = 17728 × 25840\n     obs: 'Area', 'Louvain', 'Annotation', 'SliceID'\n     uns: '__type', 'pp'\n     obsm: 'spatial', 'raw_spatial',\n AnnData object with n_obs × n_vars = 16190 × 26364\n     obs: 'Area', 'Louvain', 'Annotation', 'SliceID'\n     uns: '__type', 'pp'\n     obsm: 'spatial', 'raw_spatial',\n AnnData object with n_obs × n_vars = 14594 × 26364\n     obs: 'Area', 'Louvain', 'Annotation', 'SliceID'\n     uns: '__type', 'pp'\n     obsm: 'spatial', 'raw_spatial',\n AnnData object with n_obs × n_vars = 17425 × 26137\n     obs: 'Area', 'Louvain', 'Annotation', 'SliceID'\n     uns: '__type', 'pp'\n     obsm: 'spatial', 'raw_spatial',\n AnnData object with n_obs × n_vars = 19939 × 26137\n     obs: 'Area', 'Louvain', 'Annotation', 'SliceID'\n     uns: '__type', 'pp'\n     obsm: 'spatial', 'raw_spatial',\n AnnData object with n_obs × n_vars = 15914 × 26250\n     obs: 'Area', 'Louvain', 'Annotation', 'SliceID'\n     uns: '__type', 'pp'\n     obsm: 'spatial', 'raw_spatial',\n AnnData object with n_obs × n_vars = 18121 × 26250\n     obs: 'Area', 'Louvain', 'Annotation', 'SliceID'\n     uns: '__type', 'pp'\n     obsm: 'spatial', 'raw_spatial',\n AnnData object with n_obs × n_vars = 14860 × 24739\n     obs: 'Area', 'Louvain', 'Annotation', 'SliceID'\n     uns: '__type', 'pp'\n     obsm: 'spatial', 'raw_spatial',\n AnnData object with n_obs × n_vars = 15375 × 24739\n     obs: 'Area', 'Louvain', 'Annotation', 'SliceID'\n     uns: '__type', 'pp'\n     obsm: 'spatial', 'raw_spatial',\n AnnData object with n_obs × n_vars = 9429 × 24114\n     obs: 'Area', 'Louvain', 'Annotation', 'SliceID'\n     uns: '__type', 'pp'\n     obsm: 'spatial', 'raw_spatial',\n AnnData object with n_obs × n_vars = 12288 × 24114\n     obs: 'Area', 'Louvain', 'Annotation', 'SliceID'\n     uns: '__type', 'pp'\n     obsm: 'spatial', 'raw_spatial',\n AnnData object with n_obs × n_vars = 10247 × 25955\n     obs: 'Area', 'Louvain', 'Annotation', 'SliceID'\n     uns: '__type', 'pp'\n     obsm: 'spatial', 'raw_spatial',\n AnnData object with n_obs × n_vars = 8554 × 25955\n     obs: 'Area', 'Louvain', 'Annotation', 'SliceID'\n     uns: '__type', 'pp'\n     obsm: 'spatial', 'raw_spatial',\n AnnData object with n_obs × n_vars = 7512 × 24466\n     obs: 'Area', 'Louvain', 'Annotation', 'SliceID'\n     uns: '__type', 'pp'\n     obsm: 'spatial', 'raw_spatial',\n AnnData object with n_obs × n_vars = 3042 × 24466\n     obs: 'Area', 'Louvain', 'Annotation', 'SliceID'\n     uns: '__type', 'pp'\n     obsm: 'spatial', 'raw_spatial',\n AnnData object with n_obs × n_vars = 16845 × 27453\n     obs: 'Area', 'Louvain', 'Annotation', 'SliceID'\n     uns: '__type', 'pp'\n     obsm: 'spatial', 'raw_spatial',\n AnnData object with n_obs × n_vars = 16351 × 27453\n     obs: 'Area', 'Louvain', 'Annotation', 'SliceID'\n     uns: '__type', 'pp'\n     obsm: 'spatial', 'raw_spatial',\n AnnData object with n_obs × n_vars = 10677 × 21993\n     obs: 'Area', 'Louvain', 'Annotation', 'SliceID'\n     uns: '__type', 'pp'\n     obsm: 'spatial', 'raw_spatial',\n AnnData object with n_obs × n_vars = 12624 × 21993\n     obs: 'Area', 'Louvain', 'Annotation', 'SliceID'\n     uns: '__type', 'pp'\n     obsm: 'spatial', 'raw_spatial',\n AnnData object with n_obs × n_vars = 10232 × 22886\n     obs: 'Area', 'Louvain', 'Annotation', 'SliceID'\n     uns: '__type', 'pp'\n     obsm: 'spatial', 'raw_spatial',\n AnnData object with n_obs × n_vars = 10788 × 22886\n     obs: 'Area', 'Louvain', 'Annotation', 'SliceID'\n     uns: '__type', 'pp'\n     obsm: 'spatial', 'raw_spatial',\n AnnData object with n_obs × n_vars = 9223 × 27859\n     obs: 'Area', 'Louvain', 'Annotation', 'SliceID'\n     uns: '__type', 'pp'\n     obsm: 'spatial', 'raw_spatial',\n AnnData object with n_obs × n_vars = 8358 × 27859\n     obs: 'Area', 'Louvain', 'Annotation', 'SliceID'\n     uns: '__type', 'pp'\n     obsm: 'spatial', 'raw_spatial',\n AnnData object with n_obs × n_vars = 7974 × 26628\n     obs: 'Area', 'Louvain', 'Annotation', 'SliceID'\n     uns: '__type', 'pp'\n     obsm: 'spatial', 'raw_spatial',\n AnnData object with n_obs × n_vars = 7910 × 26628\n     obs: 'Area', 'Louvain', 'Annotation', 'SliceID'\n     uns: '__type', 'pp'\n     obsm: 'spatial', 'raw_spatial',\n AnnData object with n_obs × n_vars = 6756 × 26043\n     obs: 'Area', 'Louvain', 'Annotation', 'SliceID'\n     uns: '__type', 'pp'\n     obsm: 'spatial', 'raw_spatial',\n AnnData object with n_obs × n_vars = 7220 × 26043\n     obs: 'Area', 'Louvain', 'Annotation', 'SliceID'\n     uns: '__type', 'pp'\n     obsm: 'spatial', 'raw_spatial',\n AnnData object with n_obs × n_vars = 7072 × 24515\n     obs: 'Area', 'Louvain', 'Annotation', 'SliceID'\n     uns: '__type', 'pp'\n     obsm: 'spatial', 'raw_spatial',\n AnnData object with n_obs × n_vars = 6272 × 24515\n     obs: 'Area', 'Louvain', 'Annotation', 'SliceID'\n     uns: '__type', 'pp'\n     obsm: 'spatial', 'raw_spatial',\n AnnData object with n_obs × n_vars = 4906 × 23746\n     obs: 'Area', 'Louvain', 'Annotation', 'SliceID'\n     uns: '__type', 'pp'\n     obsm: 'spatial', 'raw_spatial',\n AnnData object with n_obs × n_vars = 4633 × 23746\n     obs: 'Area', 'Louvain', 'Annotation', 'SliceID'\n     uns: '__type', 'pp'\n     obsm: 'spatial', 'raw_spatial',\n AnnData object with n_obs × n_vars = 3222 × 23389\n     obs: 'Area', 'Louvain', 'Annotation', 'SliceID'\n     uns: '__type', 'pp'\n     obsm: 'spatial', 'raw_spatial',\n AnnData object with n_obs × n_vars = 1473 × 23389\n     obs: 'Area', 'Louvain', 'Annotation', 'SliceID'\n     uns: '__type', 'pp'\n     obsm: 'spatial', 'raw_spatial',\n AnnData object with n_obs × n_vars = 2200 × 23853\n     obs: 'Area', 'Louvain', 'Annotation', 'SliceID'\n     uns: '__type', 'pp'\n     obsm: 'spatial', 'raw_spatial',\n AnnData object with n_obs × n_vars = 1410 × 23853\n     obs: 'Area', 'Louvain', 'Annotation', 'SliceID'\n     uns: '__type', 'pp'\n     obsm: 'spatial', 'raw_spatial',\n AnnData object with n_obs × n_vars = 3789 × 23974\n     obs: 'Area', 'Louvain', 'Annotation', 'SliceID'\n     uns: '__type', 'pp'\n     obsm: 'spatial', 'raw_spatial',\n AnnData object with n_obs × n_vars = 3678 × 23974\n     obs: 'Area', 'Louvain', 'Annotation', 'SliceID'\n     uns: '__type', 'pp'\n     obsm: 'spatial', 'raw_spatial',\n AnnData object with n_obs × n_vars = 2558 × 23199\n     obs: 'Area', 'Louvain', 'Annotation', 'SliceID'\n     uns: '__type', 'pp'\n     obsm: 'spatial', 'raw_spatial',\n AnnData object with n_obs × n_vars = 2680 × 23199\n     obs: 'Area', 'Louvain', 'Annotation', 'SliceID'\n     uns: '__type', 'pp'\n     obsm: 'spatial', 'raw_spatial',\n AnnData object with n_obs × n_vars = 2382 × 23843\n     obs: 'Area', 'Louvain', 'Annotation', 'SliceID'\n     uns: '__type', 'pp'\n     obsm: 'spatial', 'raw_spatial',\n AnnData object with n_obs × n_vars = 2426 × 23843\n     obs: 'Area', 'Louvain', 'Annotation', 'SliceID'\n     uns: '__type', 'pp'\n     obsm: 'spatial', 'raw_spatial',\n AnnData object with n_obs × n_vars = 1735 × 22607\n     obs: 'Area', 'Louvain', 'Annotation', 'SliceID'\n     uns: '__type', 'pp'\n     obsm: 'spatial', 'raw_spatial',\n AnnData object with n_obs × n_vars = 1682 × 22607\n     obs: 'Area', 'Louvain', 'Annotation', 'SliceID'\n     uns: '__type', 'pp'\n     obsm: 'spatial', 'raw_spatial',\n AnnData object with n_obs × n_vars = 1188 × 22155\n     obs: 'Area', 'Louvain', 'Annotation', 'SliceID'\n     uns: '__type', 'pp'\n     obsm: 'spatial', 'raw_spatial',\n AnnData object with n_obs × n_vars = 1134 × 22155\n     obs: 'Area', 'Louvain', 'Annotation', 'SliceID'\n     uns: '__type', 'pp'\n     obsm: 'spatial', 'raw_spatial',\n AnnData object with n_obs × n_vars = 305 × 20034\n     obs: 'Area', 'Louvain', 'Annotation', 'SliceID'\n     uns: '__type', 'pp'\n     obsm: 'spatial', 'raw_spatial',\n AnnData object with n_obs × n_vars = 421 × 20034\n     obs: 'Area', 'Louvain', 'Annotation', 'SliceID'\n     uns: '__type', 'pp'\n     obsm: 'spatial', 'raw_spatial',\n AnnData object with n_obs × n_vars = 7828 × 24418\n     obs: 'Area', 'Louvain', 'Annotation', 'SliceID'\n     uns: '__type', 'pp'\n     obsm: 'spatial', 'raw_spatial',\n AnnData object with n_obs × n_vars = 16150 × 24418\n     obs: 'Area', 'Louvain', 'Annotation', 'SliceID'\n     uns: '__type', 'pp'\n     obsm: 'spatial', 'raw_spatial',\n AnnData object with n_obs × n_vars = 15169 × 23495\n     obs: 'Area', 'Louvain', 'Annotation', 'SliceID'\n     uns: '__type', 'pp'\n     obsm: 'spatial', 'raw_spatial',\n AnnData object with n_obs × n_vars = 12911 × 23495\n     obs: 'Area', 'Louvain', 'Annotation', 'SliceID'\n     uns: '__type', 'pp'\n     obsm: 'spatial', 'raw_spatial',\n AnnData object with n_obs × n_vars = 10855 × 24088\n     obs: 'Area', 'Louvain', 'Annotation', 'SliceID'\n     uns: '__type', 'pp'\n     obsm: 'spatial', 'raw_spatial',\n AnnData object with n_obs × n_vars = 13785 × 24088\n     obs: 'Area', 'Louvain', 'Annotation', 'SliceID'\n     uns: '__type', 'pp'\n     obsm: 'spatial', 'raw_spatial',\n AnnData object with n_obs × n_vars = 9170 × 24974\n     obs: 'Area', 'Louvain', 'Annotation', 'SliceID'\n     uns: '__type', 'pp'\n     obsm: 'spatial', 'raw_spatial',\n AnnData object with n_obs × n_vars = 4341 × 24974\n     obs: 'Area', 'Louvain', 'Annotation', 'SliceID'\n     uns: '__type', 'pp'\n     obsm: 'spatial', 'raw_spatial',\n AnnData object with n_obs × n_vars = 18933 × 26188\n     obs: 'Area', 'Louvain', 'Annotation', 'SliceID'\n     uns: '__type', 'pp'\n     obsm: 'spatial', 'raw_spatial',\n AnnData object with n_obs × n_vars = 16021 × 26188\n     obs: 'Area', 'Louvain', 'Annotation', 'SliceID'\n     uns: '__type', 'pp'\n     obsm: 'spatial', 'raw_spatial']"
     },
     "execution_count": 4,
     "metadata": {},
     "output_type": "execute_result"
    }
   ],
   "source": [
    "slices = []\n",
    "for slice_id, fn in zip(slice_ids, files):\n",
    "    adata = st.read_h5ad(os.path.join(folder, fn))\n",
    "    adata.obs = adata.obs[[\"area\", \"louvain\", \"transf_anno_E95\"]]\n",
    "    adata.obs.columns = [\"Area\", \"Louvain\", \"Annotation\"]\n",
    "    adata.obs[\"SliceID\"] = f\"Slice_0{slice_id}\" if slice_id < 10 else  f\"Slice_{slice_id}\"\n",
    "    adata.obs.index = adata.obs[\"SliceID\"] + \"-\" + adata.obs.index\n",
    "    del adata.uns\n",
    "    adata.uns[\"__type\"] = \"UMI\"\n",
    "    adata.uns[\"pp\"] = {}\n",
    "    raw_spatial = np.c_[adata.obsm[\"spatial\"] * 0.5, np.asarray([slice_id * 10] * adata.shape[0])]\n",
    "    align_spatial = np.c_[adata.obsm[\"global_align_spatial\"] * 0.5, np.asarray([slice_id * 10] * adata.shape[0])]\n",
    "    del adata.obsm\n",
    "    adata.obsm[\"spatial\"] = align_spatial\n",
    "    adata.obsm[\"raw_spatial\"] = raw_spatial\n",
    "    slices.append(adata)\n",
    "    print(adata)\n",
    "slices"
   ],
   "metadata": {
    "collapsed": false,
    "ExecuteTime": {
     "end_time": "2023-07-11T16:59:59.502605677Z",
     "start_time": "2023-07-11T16:59:10.728427745Z"
    }
   }
  },
  {
   "cell_type": "code",
   "execution_count": 5,
   "outputs": [
    {
     "data": {
      "text/plain": "AnnData object with n_obs × n_vars = 700146 × 28181\n    obs: 'Area', 'Louvain', 'Annotation', 'SliceID'\n    uns: '__type', 'pp'\n    obsm: 'spatial', 'raw_spatial'"
     },
     "execution_count": 5,
     "metadata": {},
     "output_type": "execute_result"
    }
   ],
   "source": [
    "combined_adata = ad.concat(slices, fill_value=0, join=\"outer\")\n",
    "combined_adata = combined_adata[combined_adata.X.sum(axis=1) != 0, combined_adata.X.sum(axis=0) != 0]\n",
    "combined_adata.obsm[\"spatial\"] = combined_adata.obsm[\"spatial\"] - combined_adata.obsm[\"spatial\"].min(axis=0)\n",
    "combined_adata.obsm[\"raw_spatial\"] = combined_adata.obsm[\"raw_spatial\"] - combined_adata.obsm[\"raw_spatial\"].min(axis=0)\n",
    "combined_adata.uns[\"__type\"] = \"UMI\"\n",
    "combined_adata.uns[\"pp\"] = {}\n",
    "combined_adata"
   ],
   "metadata": {
    "collapsed": false,
    "ExecuteTime": {
     "end_time": "2023-07-11T17:00:03.506396652Z",
     "start_time": "2023-07-11T16:59:59.504693220Z"
    }
   }
  },
  {
   "cell_type": "code",
   "execution_count": 6,
   "outputs": [
    {
     "data": {
      "text/plain": "AnnData object with n_obs × n_vars = 700146 × 28181\n    obs: 'Area', 'Louvain', 'Annotation', 'SliceID'\n    uns: '__type', 'pp', 'log1p'\n    obsm: 'spatial', 'raw_spatial'\n    layers: 'X_log1p'"
     },
     "execution_count": 6,
     "metadata": {},
     "output_type": "execute_result"
    }
   ],
   "source": [
    "# combined_adata.layers[\"X_counts\"] = combined_adata.X.copy()\n",
    "\n",
    "import scanpy as sc\n",
    "combined_adata.layers[\"X_log1p\"] = combined_adata.X.copy()\n",
    "sc.pp.normalize_total(combined_adata, layer=\"X_log1p\")\n",
    "sc.pp.log1p(combined_adata, layer=\"X_log1p\")\n",
    "combined_adata"
   ],
   "metadata": {
    "collapsed": false,
    "ExecuteTime": {
     "end_time": "2023-07-11T17:00:06.050144438Z",
     "start_time": "2023-07-11T17:00:03.506248389Z"
    }
   }
  },
  {
   "cell_type": "code",
   "execution_count": 7,
   "outputs": [],
   "source": [
    "combined_adata.write_h5ad(\"h5ad/mouse_E95_combined.h5ad\", compression=\"gzip\")"
   ],
   "metadata": {
    "collapsed": false,
    "ExecuteTime": {
     "end_time": "2023-07-11T17:01:15.310473043Z",
     "start_time": "2023-07-11T17:00:06.054304617Z"
    }
   }
  },
  {
   "cell_type": "markdown",
   "source": [
    "## Spateo-viewer data"
   ],
   "metadata": {
    "collapsed": false
   }
  },
  {
   "cell_type": "code",
   "execution_count": 8,
   "outputs": [],
   "source": [
    "hvg_adata = combined_adata.copy()\n",
    "del hvg_adata.layers\n",
    "sc.experimental.pp.highly_variable_genes(hvg_adata, n_top_genes=3000)\n",
    "hvg_adata = hvg_adata[:, hvg_adata.var.highly_variable].copy()\n",
    "hvg_adata.write_h5ad(\"h5ad/mouse_E95_combined_hvg.h5ad\", compression=\"gzip\")"
   ],
   "metadata": {
    "collapsed": false,
    "ExecuteTime": {
     "end_time": "2023-07-11T17:03:53.793542903Z",
     "start_time": "2023-07-11T17:01:15.310345486Z"
    }
   }
  },
  {
   "cell_type": "code",
   "execution_count": 9,
   "outputs": [],
   "source": [
    "np.random.seed(19491001)\n",
    "sampling = np.random.choice(np.asarray(hvg_adata.obs_names), size=100000, replace=False)\n",
    "hvg_adata_10k = hvg_adata[sampling, :]\n",
    "hvg_adata_10k = hvg_adata_10k[hvg_adata_10k.X.sum(axis=1) != 0, hvg_adata_10k.X.sum(axis=0) != 0]\n",
    "hvg_adata_10k.write_h5ad(\"h5ad/mouse_E95_combined_hvg_10k.h5ad\", compression=\"gzip\")"
   ],
   "metadata": {
    "collapsed": false,
    "ExecuteTime": {
     "end_time": "2023-07-11T17:03:55.078826388Z",
     "start_time": "2023-07-11T17:03:53.834298535Z"
    }
   }
  },
  {
   "cell_type": "code",
   "execution_count": 10,
   "outputs": [],
   "source": [
    "np.random.seed(19491001)\n",
    "sampling = np.random.choice(np.asarray(hvg_adata.obs_names), size=300000, replace=False)\n",
    "hvg_adata_30k = hvg_adata[sampling, :]\n",
    "hvg_adata_30k = hvg_adata_30k[hvg_adata_30k.X.sum(axis=1) != 0, hvg_adata_30k.X.sum(axis=0) != 0]\n",
    "hvg_adata_30k.write_h5ad(\"h5ad/mouse_E95_combined_hvg_30k.h5ad\", compression=\"gzip\")"
   ],
   "metadata": {
    "collapsed": false,
    "ExecuteTime": {
     "end_time": "2023-07-11T17:03:59.992528751Z",
     "start_time": "2023-07-11T17:03:55.086029255Z"
    }
   }
  },
  {
   "cell_type": "code",
   "execution_count": 10,
   "outputs": [],
   "source": [],
   "metadata": {
    "collapsed": false,
    "ExecuteTime": {
     "end_time": "2023-07-11T17:03:59.993450882Z",
     "start_time": "2023-07-11T17:03:59.992669174Z"
    }
   }
  }
 ],
 "metadata": {
  "kernelspec": {
   "display_name": "Python 3",
   "language": "python",
   "name": "python3"
  },
  "language_info": {
   "codemirror_mode": {
    "name": "ipython",
    "version": 2
   },
   "file_extension": ".py",
   "mimetype": "text/x-python",
   "name": "python",
   "nbconvert_exporter": "python",
   "pygments_lexer": "ipython2",
   "version": "2.7.6"
  }
 },
 "nbformat": 4,
 "nbformat_minor": 0
}
