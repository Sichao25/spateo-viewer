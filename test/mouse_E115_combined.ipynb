{
 "cells": [
  {
   "cell_type": "code",
   "execution_count": 1,
   "metadata": {
    "collapsed": true,
    "ExecuteTime": {
     "end_time": "2023-07-14T16:09:49.387588067Z",
     "start_time": "2023-07-14T16:09:44.821180598Z"
    }
   },
   "outputs": [
    {
     "name": "stderr",
     "output_type": "stream",
     "text": [
      "2023-07-15 00:09:46.489594: W tensorflow/compiler/tf2tensorrt/utils/py_utils.cc:38] TF-TRT Warning: Could not find TensorRT\n"
     ]
    }
   ],
   "source": [
    "import os\n",
    "\n",
    "import anndata as ad\n",
    "import spateo as st\n",
    "import numpy as np\n",
    "import matplotlib.pyplot as plt"
   ]
  },
  {
   "cell_type": "code",
   "execution_count": 2,
   "outputs": [
    {
     "data": {
      "text/plain": "(['0_regis_anno_S01_D01153A4_h5ad.h5ad',\n  '10_regis_anno_S11_A00792E3_h5ad.h5ad',\n  '11_regis_anno_S12_A00302E3_h5ad.h5ad',\n  '12_regis_anno_S13_A00302B4_h5ad.h5ad',\n  '13_regis_anno_S14_A00302B5_h5ad.h5ad',\n  '14_regis_anno_S15_A00302B6_h5ad.h5ad',\n  '15_regis_anno_S16_A00302C4_h5ad.h5ad',\n  '16_regis_anno_S17_C00842D4_h5ad.h5ad',\n  '17_regis_anno_S18_C00842A5_h5ad.h5ad',\n  '18_regis_anno_S19_C00842B4_h5ad.h5ad',\n  '19_regis_anno_S20_C00842B5_h5ad.h5ad',\n  '1_regis_anno_S02_D01153A5_h5ad.h5ad',\n  '20_regis_anno_S21_C00842B6_h5ad.h5ad',\n  '21_regis_anno_S22_C00842C4_h5ad.h5ad',\n  '22_regis_anno_S23_C00842D5_h5ad.h5ad',\n  '23_regis_anno_S24_D01153F1_h5ad.h5ad',\n  '24_regis_anno_S25_A01085B6_h5ad.h5ad',\n  '25_regis_anno_S26_A01085A6_h5ad.h5ad',\n  '26_regis_anno_S27_A01085B4_h5ad.h5ad',\n  '27_regis_anno_S28_A01085B5_h5ad.h5ad',\n  '28_regis_anno_S29_A01085C4_h5ad.h5ad',\n  '29_regis_anno_S30_A01085C5_h5ad.h5ad',\n  '2_regis_anno_S03_D01153A6_h5ad.h5ad',\n  '30_regis_anno_S31_A01085C6_h5ad.h5ad',\n  '32_regis_anno_S33_D01153B5_h5ad.h5ad',\n  '33_regis_anno_S34_D01153B6_h5ad.h5ad',\n  '34_regis_anno_S35_D01153C4_h5ad.h5ad',\n  '35_regis_anno_S36_D01153C5_h5ad.h5ad',\n  '36_regis_anno_S37_C00554A1_h5ad.h5ad',\n  '37_regis_anno_S38_C00554A2_h5ad.h5ad',\n  '38_regis_anno_S39_C00554A3_h5ad.h5ad',\n  '39_regis_anno_S40_C00554B1_h5ad.h5ad',\n  '3_regis_anno_S04_D01153B4_h5ad.h5ad',\n  '40_regis_anno_S41_B01209B5_h5ad.h5ad',\n  '41_regis_anno_S42_B01209B6_h5ad.h5ad',\n  '42_regis_anno_S43_B01209C5_h5ad.h5ad',\n  '43_regis_anno_S44_B01209C6_h5ad.h5ad',\n  '44_regis_anno_S45_A00792B2_h5ad.h5ad',\n  '45_regis_anno_S46_A00792B3_h5ad.h5ad',\n  '46_regis_anno_S47_A00792C1_h5ad.h5ad',\n  '47_regis_anno_S48_A00792C2_h5ad.h5ad',\n  '48_regis_anno_S49_A00792D2_h5ad.h5ad',\n  '49_regis_anno_S50_A00792D3_h5ad.h5ad',\n  '4_regis_anno_S05_A00792A2_h5ad.h5ad',\n  '50_regis_anno_S51_A00792E1_h5ad.h5ad',\n  '51_regis_anno_S52_A00792E2_h5ad.h5ad',\n  '52_regis_anno_S53_A00302C5_h5ad.h5ad',\n  '53_regis_anno_S54_A00302C6_h5ad.h5ad',\n  '54_regis_anno_S55_A00302D4_h5ad.h5ad',\n  '55_regis_anno_S56_A00302D5_h5ad.h5ad',\n  '56_regis_anno_S57_C00842D6_h5ad.h5ad',\n  '57_regis_anno_S58_C00842E4_h5ad.h5ad',\n  '58_regis_anno_S59_C00842E5_h5ad.h5ad',\n  '59_regis_anno_S60_A01085D6_h5ad.h5ad',\n  '5_regis_anno_S06_A00792A3_h5ad.h5ad',\n  '60_regis_anno_S65_A00302F1_h5ad.h5ad',\n  '61_regis_anno_S66_A00302F2_h5ad.h5ad',\n  '62_regis_anno_S67_A00302F3_h5ad.h5ad',\n  '63_regis_anno_S68_A00302F4_h5ad.h5ad',\n  '64_regis_anno_S69_D01153E1_h5ad.h5ad',\n  '65_regis_anno_S70_D01153E2_h5ad.h5ad',\n  '66_regis_anno_S71_D01153E3_h5ad.h5ad',\n  '67_regis_anno_S73_D01153C6_h5ad.h5ad',\n  '68_regis_anno_S74_D01153D1_h5ad.h5ad',\n  '69_regis_anno_S75_D01153D2_h5ad.h5ad',\n  '6_regis_anno_S07_A00792C3_h5ad.h5ad',\n  '70_regis_anno_S76_D01153D3_h5ad.h5ad',\n  '71_regis_anno_S77_A00797D2_h5ad.h5ad',\n  '72_regis_anno_S78_A00797D3_h5ad.h5ad',\n  '73_regis_anno_S79_A00797E1_h5ad.h5ad',\n  '74_regis_anno_S80_A00797E2_h5ad.h5ad',\n  '75_regis_anno_S81_A00797D4_h5ad.h5ad',\n  '76_regis_anno_S82_A00797F4_h5ad.h5ad',\n  '77_regis_anno_S83_A00797E3_h5ad.h5ad',\n  '78_regis_anno_S84_A00797E4_h5ad.h5ad',\n  '79_regis_anno_S85_A00797F1_h5ad.h5ad',\n  '7_regis_anno_S08_A00792D1_h5ad.h5ad',\n  '80_regis_anno_S86_A00797F2_h5ad.h5ad',\n  '81_regis_anno_S87_A01186C2_h5ad.h5ad',\n  '82_regis_anno_S88_A01186C3_h5ad.h5ad',\n  '83_regis_anno_S89_A01186C4_h5ad.h5ad',\n  '84_regis_anno_S90_A01186C5_h5ad.h5ad',\n  '85_regis_anno_S91_A00797F5_h5ad.h5ad',\n  '8_regis_anno_S09_A00302D6_h5ad.h5ad'],\n 84)"
     },
     "execution_count": 2,
     "metadata": {},
     "output_type": "execute_result"
    }
   ],
   "source": [
    "os.chdir(\"/media/pc001/Yao/Projects/Project_spateo/Data/mouse_embryo/mouse_E115\")\n",
    "folder = \"slices\"\n",
    "files = [fn for root1, dirs1, files in os.walk(folder) for fn in files]\n",
    "files.sort()\n",
    "files, len(files)"
   ],
   "metadata": {
    "collapsed": false,
    "ExecuteTime": {
     "end_time": "2023-07-14T07:47:23.809206989Z",
     "start_time": "2023-07-14T07:47:23.806142708Z"
    }
   }
  },
  {
   "cell_type": "code",
   "execution_count": 4,
   "outputs": [
    {
     "name": "stdout",
     "output_type": "stream",
     "text": [
      "AnnData object with n_obs × n_vars = 10000 × 2843\n",
      "    obs: 'Annotation', 'SliceID'\n",
      "    var: 'means', 'variances', 'residual_variances', 'highly_variable_rank', 'highly_variable'\n",
      "    uns: '__type', 'pp'\n",
      "    obsm: 'spatial', 'raw_spatial'\n",
      "AnnData object with n_obs × n_vars = 10000 × 2935\n",
      "    obs: 'Annotation', 'SliceID'\n",
      "    var: 'means', 'variances', 'residual_variances', 'highly_variable_rank', 'highly_variable'\n",
      "    uns: '__type', 'pp'\n",
      "    obsm: 'spatial', 'raw_spatial'\n",
      "AnnData object with n_obs × n_vars = 4858 × 3000\n",
      "    obs: 'Annotation', 'SliceID'\n",
      "    var: 'means', 'variances', 'residual_variances', 'highly_variable_rank', 'highly_variable'\n",
      "    uns: '__type', 'pp'\n",
      "    obsm: 'spatial', 'raw_spatial'\n",
      "AnnData object with n_obs × n_vars = 10000 × 2943\n",
      "    obs: 'Annotation', 'SliceID'\n",
      "    var: 'means', 'variances', 'residual_variances', 'highly_variable_rank', 'highly_variable'\n",
      "    uns: '__type', 'pp'\n",
      "    obsm: 'spatial', 'raw_spatial'\n",
      "AnnData object with n_obs × n_vars = 10000 × 2905\n",
      "    obs: 'Annotation', 'SliceID'\n",
      "    var: 'means', 'variances', 'residual_variances', 'highly_variable_rank', 'highly_variable'\n",
      "    uns: '__type', 'pp'\n",
      "    obsm: 'spatial', 'raw_spatial'\n",
      "AnnData object with n_obs × n_vars = 10000 × 2838\n",
      "    obs: 'Annotation', 'SliceID'\n",
      "    var: 'means', 'variances', 'residual_variances', 'highly_variable_rank', 'highly_variable'\n",
      "    uns: '__type', 'pp'\n",
      "    obsm: 'spatial', 'raw_spatial'\n",
      "AnnData object with n_obs × n_vars = 10000 × 2876\n",
      "    obs: 'Annotation', 'SliceID'\n",
      "    var: 'means', 'variances', 'residual_variances', 'highly_variable_rank', 'highly_variable'\n",
      "    uns: '__type', 'pp'\n",
      "    obsm: 'spatial', 'raw_spatial'\n",
      "AnnData object with n_obs × n_vars = 10000 × 2895\n",
      "    obs: 'Annotation', 'SliceID'\n",
      "    var: 'means', 'variances', 'residual_variances', 'highly_variable_rank', 'highly_variable'\n",
      "    uns: '__type', 'pp'\n",
      "    obsm: 'spatial', 'raw_spatial'\n",
      "AnnData object with n_obs × n_vars = 10000 × 2889\n",
      "    obs: 'Annotation', 'SliceID'\n",
      "    var: 'means', 'variances', 'residual_variances', 'highly_variable_rank', 'highly_variable'\n",
      "    uns: '__type', 'pp'\n",
      "    obsm: 'spatial', 'raw_spatial'\n",
      "AnnData object with n_obs × n_vars = 10000 × 2866\n",
      "    obs: 'Annotation', 'SliceID'\n",
      "    var: 'means', 'variances', 'residual_variances', 'highly_variable_rank', 'highly_variable'\n",
      "    uns: '__type', 'pp'\n",
      "    obsm: 'spatial', 'raw_spatial'\n",
      "AnnData object with n_obs × n_vars = 10000 × 2932\n",
      "    obs: 'Annotation', 'SliceID'\n",
      "    var: 'means', 'variances', 'residual_variances', 'highly_variable_rank', 'highly_variable'\n",
      "    uns: '__type', 'pp'\n",
      "    obsm: 'spatial', 'raw_spatial'\n",
      "AnnData object with n_obs × n_vars = 10000 × 2932\n",
      "    obs: 'Annotation', 'SliceID'\n",
      "    var: 'means', 'variances', 'residual_variances', 'highly_variable_rank', 'highly_variable'\n",
      "    uns: '__type', 'pp'\n",
      "    obsm: 'spatial', 'raw_spatial'\n",
      "AnnData object with n_obs × n_vars = 10000 × 2952\n",
      "    obs: 'Annotation', 'SliceID'\n",
      "    var: 'means', 'variances', 'residual_variances', 'highly_variable_rank', 'highly_variable'\n",
      "    uns: '__type', 'pp'\n",
      "    obsm: 'spatial', 'raw_spatial'\n",
      "AnnData object with n_obs × n_vars = 10000 × 2957\n",
      "    obs: 'Annotation', 'SliceID'\n",
      "    var: 'means', 'variances', 'residual_variances', 'highly_variable_rank', 'highly_variable'\n",
      "    uns: '__type', 'pp'\n",
      "    obsm: 'spatial', 'raw_spatial'\n",
      "AnnData object with n_obs × n_vars = 10000 × 2932\n",
      "    obs: 'Annotation', 'SliceID'\n",
      "    var: 'means', 'variances', 'residual_variances', 'highly_variable_rank', 'highly_variable'\n",
      "    uns: '__type', 'pp'\n",
      "    obsm: 'spatial', 'raw_spatial'\n",
      "AnnData object with n_obs × n_vars = 10000 × 2884\n",
      "    obs: 'Annotation', 'SliceID'\n",
      "    var: 'means', 'variances', 'residual_variances', 'highly_variable_rank', 'highly_variable'\n",
      "    uns: '__type', 'pp'\n",
      "    obsm: 'spatial', 'raw_spatial'\n",
      "AnnData object with n_obs × n_vars = 10000 × 2906\n",
      "    obs: 'Annotation', 'SliceID'\n",
      "    var: 'means', 'variances', 'residual_variances', 'highly_variable_rank', 'highly_variable'\n",
      "    uns: '__type', 'pp'\n",
      "    obsm: 'spatial', 'raw_spatial'\n",
      "AnnData object with n_obs × n_vars = 10000 × 2927\n",
      "    obs: 'Annotation', 'SliceID'\n",
      "    var: 'means', 'variances', 'residual_variances', 'highly_variable_rank', 'highly_variable'\n",
      "    uns: '__type', 'pp'\n",
      "    obsm: 'spatial', 'raw_spatial'\n",
      "AnnData object with n_obs × n_vars = 10000 × 2910\n",
      "    obs: 'Annotation', 'SliceID'\n",
      "    var: 'means', 'variances', 'residual_variances', 'highly_variable_rank', 'highly_variable'\n",
      "    uns: '__type', 'pp'\n",
      "    obsm: 'spatial', 'raw_spatial'\n",
      "AnnData object with n_obs × n_vars = 10000 × 2906\n",
      "    obs: 'Annotation', 'SliceID'\n",
      "    var: 'means', 'variances', 'residual_variances', 'highly_variable_rank', 'highly_variable'\n",
      "    uns: '__type', 'pp'\n",
      "    obsm: 'spatial', 'raw_spatial'\n",
      "AnnData object with n_obs × n_vars = 10000 × 2872\n",
      "    obs: 'Annotation', 'SliceID'\n",
      "    var: 'means', 'variances', 'residual_variances', 'highly_variable_rank', 'highly_variable'\n",
      "    uns: '__type', 'pp'\n",
      "    obsm: 'spatial', 'raw_spatial'\n",
      "AnnData object with n_obs × n_vars = 10000 × 2969\n",
      "    obs: 'Annotation', 'SliceID'\n",
      "    var: 'means', 'variances', 'residual_variances', 'highly_variable_rank', 'highly_variable'\n",
      "    uns: '__type', 'pp'\n",
      "    obsm: 'spatial', 'raw_spatial'\n",
      "AnnData object with n_obs × n_vars = 10000 × 2988\n",
      "    obs: 'Annotation', 'SliceID'\n",
      "    var: 'means', 'variances', 'residual_variances', 'highly_variable_rank', 'highly_variable'\n",
      "    uns: '__type', 'pp'\n",
      "    obsm: 'spatial', 'raw_spatial'\n",
      "AnnData object with n_obs × n_vars = 10000 × 2991\n",
      "    obs: 'Annotation', 'SliceID'\n",
      "    var: 'means', 'variances', 'residual_variances', 'highly_variable_rank', 'highly_variable'\n",
      "    uns: '__type', 'pp'\n",
      "    obsm: 'spatial', 'raw_spatial'\n",
      "AnnData object with n_obs × n_vars = 10000 × 2980\n",
      "    obs: 'Annotation', 'SliceID'\n",
      "    var: 'means', 'variances', 'residual_variances', 'highly_variable_rank', 'highly_variable'\n",
      "    uns: '__type', 'pp'\n",
      "    obsm: 'spatial', 'raw_spatial'\n",
      "AnnData object with n_obs × n_vars = 10000 × 2977\n",
      "    obs: 'Annotation', 'SliceID'\n",
      "    var: 'means', 'variances', 'residual_variances', 'highly_variable_rank', 'highly_variable'\n",
      "    uns: '__type', 'pp'\n",
      "    obsm: 'spatial', 'raw_spatial'\n",
      "AnnData object with n_obs × n_vars = 10000 × 2974\n",
      "    obs: 'Annotation', 'SliceID'\n",
      "    var: 'means', 'variances', 'residual_variances', 'highly_variable_rank', 'highly_variable'\n",
      "    uns: '__type', 'pp'\n",
      "    obsm: 'spatial', 'raw_spatial'\n",
      "AnnData object with n_obs × n_vars = 10000 × 2966\n",
      "    obs: 'Annotation', 'SliceID'\n",
      "    var: 'means', 'variances', 'residual_variances', 'highly_variable_rank', 'highly_variable'\n",
      "    uns: '__type', 'pp'\n",
      "    obsm: 'spatial', 'raw_spatial'\n",
      "AnnData object with n_obs × n_vars = 10000 × 2902\n",
      "    obs: 'Annotation', 'SliceID'\n",
      "    var: 'means', 'variances', 'residual_variances', 'highly_variable_rank', 'highly_variable'\n",
      "    uns: '__type', 'pp'\n",
      "    obsm: 'spatial', 'raw_spatial'\n",
      "AnnData object with n_obs × n_vars = 10000 × 2921\n",
      "    obs: 'Annotation', 'SliceID'\n",
      "    var: 'means', 'variances', 'residual_variances', 'highly_variable_rank', 'highly_variable'\n",
      "    uns: '__type', 'pp'\n",
      "    obsm: 'spatial', 'raw_spatial'\n",
      "AnnData object with n_obs × n_vars = 10000 × 2935\n",
      "    obs: 'Annotation', 'SliceID'\n",
      "    var: 'means', 'variances', 'residual_variances', 'highly_variable_rank', 'highly_variable'\n",
      "    uns: '__type', 'pp'\n",
      "    obsm: 'spatial', 'raw_spatial'\n",
      "AnnData object with n_obs × n_vars = 10000 × 2876\n",
      "    obs: 'Annotation', 'SliceID'\n",
      "    var: 'means', 'variances', 'residual_variances', 'highly_variable_rank', 'highly_variable'\n",
      "    uns: '__type', 'pp'\n",
      "    obsm: 'spatial', 'raw_spatial'\n",
      "AnnData object with n_obs × n_vars = 10000 × 2954\n",
      "    obs: 'Annotation', 'SliceID'\n",
      "    var: 'means', 'variances', 'residual_variances', 'highly_variable_rank', 'highly_variable'\n",
      "    uns: '__type', 'pp'\n",
      "    obsm: 'spatial', 'raw_spatial'\n",
      "AnnData object with n_obs × n_vars = 10000 × 2931\n",
      "    obs: 'Annotation', 'SliceID'\n",
      "    var: 'means', 'variances', 'residual_variances', 'highly_variable_rank', 'highly_variable'\n",
      "    uns: '__type', 'pp'\n",
      "    obsm: 'spatial', 'raw_spatial'\n",
      "AnnData object with n_obs × n_vars = 10000 × 2913\n",
      "    obs: 'Annotation', 'SliceID'\n",
      "    var: 'means', 'variances', 'residual_variances', 'highly_variable_rank', 'highly_variable'\n",
      "    uns: '__type', 'pp'\n",
      "    obsm: 'spatial', 'raw_spatial'\n",
      "AnnData object with n_obs × n_vars = 10000 × 2958\n",
      "    obs: 'Annotation', 'SliceID'\n",
      "    var: 'means', 'variances', 'residual_variances', 'highly_variable_rank', 'highly_variable'\n",
      "    uns: '__type', 'pp'\n",
      "    obsm: 'spatial', 'raw_spatial'\n",
      "AnnData object with n_obs × n_vars = 10000 × 2945\n",
      "    obs: 'Annotation', 'SliceID'\n",
      "    var: 'means', 'variances', 'residual_variances', 'highly_variable_rank', 'highly_variable'\n",
      "    uns: '__type', 'pp'\n",
      "    obsm: 'spatial', 'raw_spatial'\n",
      "AnnData object with n_obs × n_vars = 10000 × 2947\n",
      "    obs: 'Annotation', 'SliceID'\n",
      "    var: 'means', 'variances', 'residual_variances', 'highly_variable_rank', 'highly_variable'\n",
      "    uns: '__type', 'pp'\n",
      "    obsm: 'spatial', 'raw_spatial'\n",
      "AnnData object with n_obs × n_vars = 10000 × 2888\n",
      "    obs: 'Annotation', 'SliceID'\n",
      "    var: 'means', 'variances', 'residual_variances', 'highly_variable_rank', 'highly_variable'\n",
      "    uns: '__type', 'pp'\n",
      "    obsm: 'spatial', 'raw_spatial'\n"
     ]
    },
    {
     "data": {
      "text/plain": "[]"
     },
     "execution_count": 4,
     "metadata": {},
     "output_type": "execute_result"
    }
   ],
   "source": [
    "import scanpy as sc\n",
    "\n",
    "for fn in files:\n",
    "    slice_id = str(fn).split(\"_\")[3]\n",
    "\n",
    "    adata = st.read_h5ad(os.path.join(folder, fn))\n",
    "    adata.obs.columns = [\"Annotation\"]\n",
    "    adata.obs[\"SliceID\"] = f\"Slice_{slice_id[1:]}\"\n",
    "    adata.obs.index = adata.obs[\"SliceID\"] + \"-\" + adata.obs.index\n",
    "\n",
    "    del adata.layers\n",
    "    sc.experimental.pp.highly_variable_genes(adata, n_top_genes=3000)\n",
    "    adata = adata[:, adata.var.highly_variable].copy()\n",
    "\n",
    "    if adata.shape[0] > 10000:\n",
    "        np.random.seed(19491001)\n",
    "        sampling = np.random.choice(np.asarray(adata.obs_names), size=10000, replace=False)\n",
    "        adata = adata[sampling, :]\n",
    "        adata = adata[adata.X.sum(axis=1) != 0, adata.X.sum(axis=0) != 0]\n",
    "\n",
    "    del adata.uns\n",
    "    adata.uns[\"__type\"] = \"UMI\"\n",
    "    adata.uns[\"pp\"] = {}\n",
    "    raw_spatial = np.c_[adata.obsm[\"spatial\"][:, :2] * 0.5, adata.obsm[\"spatial\"][:, 2]]\n",
    "    align_spatial = np.c_[adata.obsm[\"z_correction\"][:, :2] * 0.5, adata.obsm[\"z_correction\"][:, 2]]\n",
    "    del adata.obsm\n",
    "    adata.obsm[\"spatial\"] = align_spatial\n",
    "    adata.obsm[\"raw_spatial\"] = raw_spatial\n",
    "    adata.write_h5ad(os.path.join(\"hvg_slices\", fn), compression=\"gzip\")\n",
    "    # slices.append(adata)\n",
    "    print(adata)"
   ],
   "metadata": {
    "collapsed": false,
    "ExecuteTime": {
     "end_time": "2023-07-14T16:05:16.888802452Z",
     "start_time": "2023-07-14T15:55:02.823628464Z"
    }
   }
  },
  {
   "cell_type": "code",
   "execution_count": 2,
   "outputs": [
    {
     "name": "stdout",
     "output_type": "stream",
     "text": [
      "S01\n",
      "S11\n",
      "S12\n",
      "S13\n",
      "S14\n",
      "S15\n",
      "S16\n",
      "S17\n",
      "S18\n",
      "S19\n",
      "S20\n",
      "S02\n",
      "S21\n",
      "S22\n",
      "S23\n",
      "S24\n",
      "S25\n",
      "S26\n",
      "S27\n",
      "S28\n",
      "S29\n",
      "S30\n",
      "S03\n",
      "S31\n",
      "S33\n",
      "S34\n",
      "S35\n",
      "S36\n",
      "S37\n",
      "S38\n",
      "S39\n",
      "S40\n",
      "S04\n",
      "S41\n",
      "S42\n",
      "S43\n",
      "S44\n",
      "S45\n",
      "S46\n",
      "S47\n",
      "S48\n",
      "S49\n",
      "S50\n",
      "S05\n",
      "S51\n",
      "S52\n",
      "S53\n",
      "S54\n",
      "S55\n",
      "S56\n",
      "S57\n",
      "S58\n",
      "S59\n",
      "S60\n",
      "S06\n",
      "S65\n",
      "S66\n",
      "S67\n",
      "S68\n",
      "S69\n",
      "S70\n",
      "S71\n",
      "S73\n",
      "S74\n",
      "S75\n",
      "S07\n",
      "S76\n",
      "S77\n",
      "S78\n",
      "S79\n",
      "S80\n",
      "S81\n",
      "S82\n",
      "S83\n",
      "S84\n",
      "S85\n",
      "S08\n",
      "S86\n",
      "S87\n",
      "S88\n",
      "S89\n",
      "S90\n",
      "S91\n",
      "S09\n"
     ]
    },
    {
     "data": {
      "text/plain": "[AnnData object with n_obs × n_vars = 10000 × 2906\n     obs: 'Annotation', 'SliceID'\n     var: 'means', 'variances', 'residual_variances', 'highly_variable_rank', 'highly_variable'\n     uns: '__type', 'pp'\n     obsm: 'raw_spatial', 'spatial',\n AnnData object with n_obs × n_vars = 10000 × 2830\n     obs: 'Annotation', 'SliceID'\n     var: 'means', 'variances', 'residual_variances', 'highly_variable_rank', 'highly_variable'\n     uns: '__type', 'pp'\n     obsm: 'raw_spatial', 'spatial',\n AnnData object with n_obs × n_vars = 10000 × 2869\n     obs: 'Annotation', 'SliceID'\n     var: 'means', 'variances', 'residual_variances', 'highly_variable_rank', 'highly_variable'\n     uns: '__type', 'pp'\n     obsm: 'raw_spatial', 'spatial',\n AnnData object with n_obs × n_vars = 10000 × 2916\n     obs: 'Annotation', 'SliceID'\n     var: 'means', 'variances', 'residual_variances', 'highly_variable_rank', 'highly_variable'\n     uns: '__type', 'pp'\n     obsm: 'raw_spatial', 'spatial',\n AnnData object with n_obs × n_vars = 10000 × 2876\n     obs: 'Annotation', 'SliceID'\n     var: 'means', 'variances', 'residual_variances', 'highly_variable_rank', 'highly_variable'\n     uns: '__type', 'pp'\n     obsm: 'raw_spatial', 'spatial',\n AnnData object with n_obs × n_vars = 10000 × 2923\n     obs: 'Annotation', 'SliceID'\n     var: 'means', 'variances', 'residual_variances', 'highly_variable_rank', 'highly_variable'\n     uns: '__type', 'pp'\n     obsm: 'raw_spatial', 'spatial',\n AnnData object with n_obs × n_vars = 10000 × 2828\n     obs: 'Annotation', 'SliceID'\n     var: 'means', 'variances', 'residual_variances', 'highly_variable_rank', 'highly_variable'\n     uns: '__type', 'pp'\n     obsm: 'raw_spatial', 'spatial',\n AnnData object with n_obs × n_vars = 10000 × 2774\n     obs: 'Annotation', 'SliceID'\n     var: 'means', 'variances', 'residual_variances', 'highly_variable_rank', 'highly_variable'\n     uns: '__type', 'pp'\n     obsm: 'raw_spatial', 'spatial',\n AnnData object with n_obs × n_vars = 10000 × 2825\n     obs: 'Annotation', 'SliceID'\n     var: 'means', 'variances', 'residual_variances', 'highly_variable_rank', 'highly_variable'\n     uns: '__type', 'pp'\n     obsm: 'raw_spatial', 'spatial',\n AnnData object with n_obs × n_vars = 10000 × 2825\n     obs: 'Annotation', 'SliceID'\n     var: 'means', 'variances', 'residual_variances', 'highly_variable_rank', 'highly_variable'\n     uns: '__type', 'pp'\n     obsm: 'raw_spatial', 'spatial',\n AnnData object with n_obs × n_vars = 10000 × 2827\n     obs: 'Annotation', 'SliceID'\n     var: 'means', 'variances', 'residual_variances', 'highly_variable_rank', 'highly_variable'\n     uns: '__type', 'pp'\n     obsm: 'raw_spatial', 'spatial',\n AnnData object with n_obs × n_vars = 10000 × 2930\n     obs: 'Annotation', 'SliceID'\n     var: 'means', 'variances', 'residual_variances', 'highly_variable_rank', 'highly_variable'\n     uns: '__type', 'pp'\n     obsm: 'raw_spatial', 'spatial',\n AnnData object with n_obs × n_vars = 10000 × 2830\n     obs: 'Annotation', 'SliceID'\n     var: 'means', 'variances', 'residual_variances', 'highly_variable_rank', 'highly_variable'\n     uns: '__type', 'pp'\n     obsm: 'raw_spatial', 'spatial',\n AnnData object with n_obs × n_vars = 10000 × 2834\n     obs: 'Annotation', 'SliceID'\n     var: 'means', 'variances', 'residual_variances', 'highly_variable_rank', 'highly_variable'\n     uns: '__type', 'pp'\n     obsm: 'raw_spatial', 'spatial',\n AnnData object with n_obs × n_vars = 10000 × 2801\n     obs: 'Annotation', 'SliceID'\n     var: 'means', 'variances', 'residual_variances', 'highly_variable_rank', 'highly_variable'\n     uns: '__type', 'pp'\n     obsm: 'raw_spatial', 'spatial',\n AnnData object with n_obs × n_vars = 10000 × 2862\n     obs: 'Annotation', 'SliceID'\n     var: 'means', 'variances', 'residual_variances', 'highly_variable_rank', 'highly_variable'\n     uns: '__type', 'pp'\n     obsm: 'raw_spatial', 'spatial',\n AnnData object with n_obs × n_vars = 10000 × 2782\n     obs: 'Annotation', 'SliceID'\n     var: 'means', 'variances', 'residual_variances', 'highly_variable_rank', 'highly_variable'\n     uns: '__type', 'pp'\n     obsm: 'raw_spatial', 'spatial',\n AnnData object with n_obs × n_vars = 10000 × 2821\n     obs: 'Annotation', 'SliceID'\n     var: 'means', 'variances', 'residual_variances', 'highly_variable_rank', 'highly_variable'\n     uns: '__type', 'pp'\n     obsm: 'raw_spatial', 'spatial',\n AnnData object with n_obs × n_vars = 10000 × 2812\n     obs: 'Annotation', 'SliceID'\n     var: 'means', 'variances', 'residual_variances', 'highly_variable_rank', 'highly_variable'\n     uns: '__type', 'pp'\n     obsm: 'raw_spatial', 'spatial',\n AnnData object with n_obs × n_vars = 10000 × 2782\n     obs: 'Annotation', 'SliceID'\n     var: 'means', 'variances', 'residual_variances', 'highly_variable_rank', 'highly_variable'\n     uns: '__type', 'pp'\n     obsm: 'raw_spatial', 'spatial',\n AnnData object with n_obs × n_vars = 10000 × 2761\n     obs: 'Annotation', 'SliceID'\n     var: 'means', 'variances', 'residual_variances', 'highly_variable_rank', 'highly_variable'\n     uns: '__type', 'pp'\n     obsm: 'raw_spatial', 'spatial',\n AnnData object with n_obs × n_vars = 10000 × 2765\n     obs: 'Annotation', 'SliceID'\n     var: 'means', 'variances', 'residual_variances', 'highly_variable_rank', 'highly_variable'\n     uns: '__type', 'pp'\n     obsm: 'raw_spatial', 'spatial',\n AnnData object with n_obs × n_vars = 10000 × 2906\n     obs: 'Annotation', 'SliceID'\n     var: 'means', 'variances', 'residual_variances', 'highly_variable_rank', 'highly_variable'\n     uns: '__type', 'pp'\n     obsm: 'raw_spatial', 'spatial',\n AnnData object with n_obs × n_vars = 10000 × 2806\n     obs: 'Annotation', 'SliceID'\n     var: 'means', 'variances', 'residual_variances', 'highly_variable_rank', 'highly_variable'\n     uns: '__type', 'pp'\n     obsm: 'raw_spatial', 'spatial',\n AnnData object with n_obs × n_vars = 10000 × 2708\n     obs: 'Annotation', 'SliceID'\n     var: 'means', 'variances', 'residual_variances', 'highly_variable_rank', 'highly_variable'\n     uns: '__type', 'pp'\n     obsm: 'raw_spatial', 'spatial',\n AnnData object with n_obs × n_vars = 10000 × 2855\n     obs: 'Annotation', 'SliceID'\n     var: 'means', 'variances', 'residual_variances', 'highly_variable_rank', 'highly_variable'\n     uns: '__type', 'pp'\n     obsm: 'raw_spatial', 'spatial',\n AnnData object with n_obs × n_vars = 10000 × 2760\n     obs: 'Annotation', 'SliceID'\n     var: 'means', 'variances', 'residual_variances', 'highly_variable_rank', 'highly_variable'\n     uns: '__type', 'pp'\n     obsm: 'raw_spatial', 'spatial',\n AnnData object with n_obs × n_vars = 10000 × 2741\n     obs: 'Annotation', 'SliceID'\n     var: 'means', 'variances', 'residual_variances', 'highly_variable_rank', 'highly_variable'\n     uns: '__type', 'pp'\n     obsm: 'raw_spatial', 'spatial',\n AnnData object with n_obs × n_vars = 10000 × 2884\n     obs: 'Annotation', 'SliceID'\n     var: 'means', 'variances', 'residual_variances', 'highly_variable_rank', 'highly_variable'\n     uns: '__type', 'pp'\n     obsm: 'raw_spatial', 'spatial',\n AnnData object with n_obs × n_vars = 10000 × 2892\n     obs: 'Annotation', 'SliceID'\n     var: 'means', 'variances', 'residual_variances', 'highly_variable_rank', 'highly_variable'\n     uns: '__type', 'pp'\n     obsm: 'raw_spatial', 'spatial',\n AnnData object with n_obs × n_vars = 10000 × 2881\n     obs: 'Annotation', 'SliceID'\n     var: 'means', 'variances', 'residual_variances', 'highly_variable_rank', 'highly_variable'\n     uns: '__type', 'pp'\n     obsm: 'raw_spatial', 'spatial',\n AnnData object with n_obs × n_vars = 10000 × 2875\n     obs: 'Annotation', 'SliceID'\n     var: 'means', 'variances', 'residual_variances', 'highly_variable_rank', 'highly_variable'\n     uns: '__type', 'pp'\n     obsm: 'raw_spatial', 'spatial',\n AnnData object with n_obs × n_vars = 10000 × 2873\n     obs: 'Annotation', 'SliceID'\n     var: 'means', 'variances', 'residual_variances', 'highly_variable_rank', 'highly_variable'\n     uns: '__type', 'pp'\n     obsm: 'raw_spatial', 'spatial',\n AnnData object with n_obs × n_vars = 10000 × 2758\n     obs: 'Annotation', 'SliceID'\n     var: 'means', 'variances', 'residual_variances', 'highly_variable_rank', 'highly_variable'\n     uns: '__type', 'pp'\n     obsm: 'raw_spatial', 'spatial',\n AnnData object with n_obs × n_vars = 10000 × 2854\n     obs: 'Annotation', 'SliceID'\n     var: 'means', 'variances', 'residual_variances', 'highly_variable_rank', 'highly_variable'\n     uns: '__type', 'pp'\n     obsm: 'raw_spatial', 'spatial',\n AnnData object with n_obs × n_vars = 10000 × 2817\n     obs: 'Annotation', 'SliceID'\n     var: 'means', 'variances', 'residual_variances', 'highly_variable_rank', 'highly_variable'\n     uns: '__type', 'pp'\n     obsm: 'raw_spatial', 'spatial',\n AnnData object with n_obs × n_vars = 10000 × 2881\n     obs: 'Annotation', 'SliceID'\n     var: 'means', 'variances', 'residual_variances', 'highly_variable_rank', 'highly_variable'\n     uns: '__type', 'pp'\n     obsm: 'raw_spatial', 'spatial',\n AnnData object with n_obs × n_vars = 10000 × 2871\n     obs: 'Annotation', 'SliceID'\n     var: 'means', 'variances', 'residual_variances', 'highly_variable_rank', 'highly_variable'\n     uns: '__type', 'pp'\n     obsm: 'raw_spatial', 'spatial',\n AnnData object with n_obs × n_vars = 10000 × 2859\n     obs: 'Annotation', 'SliceID'\n     var: 'means', 'variances', 'residual_variances', 'highly_variable_rank', 'highly_variable'\n     uns: '__type', 'pp'\n     obsm: 'raw_spatial', 'spatial',\n AnnData object with n_obs × n_vars = 10000 × 2847\n     obs: 'Annotation', 'SliceID'\n     var: 'means', 'variances', 'residual_variances', 'highly_variable_rank', 'highly_variable'\n     uns: '__type', 'pp'\n     obsm: 'raw_spatial', 'spatial',\n AnnData object with n_obs × n_vars = 10000 × 2847\n     obs: 'Annotation', 'SliceID'\n     var: 'means', 'variances', 'residual_variances', 'highly_variable_rank', 'highly_variable'\n     uns: '__type', 'pp'\n     obsm: 'raw_spatial', 'spatial',\n AnnData object with n_obs × n_vars = 10000 × 2820\n     obs: 'Annotation', 'SliceID'\n     var: 'means', 'variances', 'residual_variances', 'highly_variable_rank', 'highly_variable'\n     uns: '__type', 'pp'\n     obsm: 'raw_spatial', 'spatial',\n AnnData object with n_obs × n_vars = 10000 × 2872\n     obs: 'Annotation', 'SliceID'\n     var: 'means', 'variances', 'residual_variances', 'highly_variable_rank', 'highly_variable'\n     uns: '__type', 'pp'\n     obsm: 'raw_spatial', 'spatial',\n AnnData object with n_obs × n_vars = 10000 × 2901\n     obs: 'Annotation', 'SliceID'\n     var: 'means', 'variances', 'residual_variances', 'highly_variable_rank', 'highly_variable'\n     uns: '__type', 'pp'\n     obsm: 'raw_spatial', 'spatial',\n AnnData object with n_obs × n_vars = 10000 × 2847\n     obs: 'Annotation', 'SliceID'\n     var: 'means', 'variances', 'residual_variances', 'highly_variable_rank', 'highly_variable'\n     uns: '__type', 'pp'\n     obsm: 'raw_spatial', 'spatial',\n AnnData object with n_obs × n_vars = 10000 × 2843\n     obs: 'Annotation', 'SliceID'\n     var: 'means', 'variances', 'residual_variances', 'highly_variable_rank', 'highly_variable'\n     uns: '__type', 'pp'\n     obsm: 'raw_spatial', 'spatial',\n AnnData object with n_obs × n_vars = 10000 × 2935\n     obs: 'Annotation', 'SliceID'\n     var: 'means', 'variances', 'residual_variances', 'highly_variable_rank', 'highly_variable'\n     uns: '__type', 'pp'\n     obsm: 'raw_spatial', 'spatial',\n AnnData object with n_obs × n_vars = 4858 × 3000\n     obs: 'Annotation', 'SliceID'\n     var: 'means', 'variances', 'residual_variances', 'highly_variable_rank', 'highly_variable'\n     uns: '__type', 'pp'\n     obsm: 'raw_spatial', 'spatial',\n AnnData object with n_obs × n_vars = 10000 × 2943\n     obs: 'Annotation', 'SliceID'\n     var: 'means', 'variances', 'residual_variances', 'highly_variable_rank', 'highly_variable'\n     uns: '__type', 'pp'\n     obsm: 'raw_spatial', 'spatial',\n AnnData object with n_obs × n_vars = 10000 × 2905\n     obs: 'Annotation', 'SliceID'\n     var: 'means', 'variances', 'residual_variances', 'highly_variable_rank', 'highly_variable'\n     uns: '__type', 'pp'\n     obsm: 'raw_spatial', 'spatial',\n AnnData object with n_obs × n_vars = 10000 × 2838\n     obs: 'Annotation', 'SliceID'\n     var: 'means', 'variances', 'residual_variances', 'highly_variable_rank', 'highly_variable'\n     uns: '__type', 'pp'\n     obsm: 'raw_spatial', 'spatial',\n AnnData object with n_obs × n_vars = 10000 × 2876\n     obs: 'Annotation', 'SliceID'\n     var: 'means', 'variances', 'residual_variances', 'highly_variable_rank', 'highly_variable'\n     uns: '__type', 'pp'\n     obsm: 'raw_spatial', 'spatial',\n AnnData object with n_obs × n_vars = 10000 × 2895\n     obs: 'Annotation', 'SliceID'\n     var: 'means', 'variances', 'residual_variances', 'highly_variable_rank', 'highly_variable'\n     uns: '__type', 'pp'\n     obsm: 'raw_spatial', 'spatial',\n AnnData object with n_obs × n_vars = 10000 × 2889\n     obs: 'Annotation', 'SliceID'\n     var: 'means', 'variances', 'residual_variances', 'highly_variable_rank', 'highly_variable'\n     uns: '__type', 'pp'\n     obsm: 'raw_spatial', 'spatial',\n AnnData object with n_obs × n_vars = 10000 × 2866\n     obs: 'Annotation', 'SliceID'\n     var: 'means', 'variances', 'residual_variances', 'highly_variable_rank', 'highly_variable'\n     uns: '__type', 'pp'\n     obsm: 'raw_spatial', 'spatial',\n AnnData object with n_obs × n_vars = 10000 × 2932\n     obs: 'Annotation', 'SliceID'\n     var: 'means', 'variances', 'residual_variances', 'highly_variable_rank', 'highly_variable'\n     uns: '__type', 'pp'\n     obsm: 'raw_spatial', 'spatial',\n AnnData object with n_obs × n_vars = 10000 × 2932\n     obs: 'Annotation', 'SliceID'\n     var: 'means', 'variances', 'residual_variances', 'highly_variable_rank', 'highly_variable'\n     uns: '__type', 'pp'\n     obsm: 'raw_spatial', 'spatial',\n AnnData object with n_obs × n_vars = 10000 × 2952\n     obs: 'Annotation', 'SliceID'\n     var: 'means', 'variances', 'residual_variances', 'highly_variable_rank', 'highly_variable'\n     uns: '__type', 'pp'\n     obsm: 'raw_spatial', 'spatial',\n AnnData object with n_obs × n_vars = 10000 × 2957\n     obs: 'Annotation', 'SliceID'\n     var: 'means', 'variances', 'residual_variances', 'highly_variable_rank', 'highly_variable'\n     uns: '__type', 'pp'\n     obsm: 'raw_spatial', 'spatial',\n AnnData object with n_obs × n_vars = 10000 × 2932\n     obs: 'Annotation', 'SliceID'\n     var: 'means', 'variances', 'residual_variances', 'highly_variable_rank', 'highly_variable'\n     uns: '__type', 'pp'\n     obsm: 'raw_spatial', 'spatial',\n AnnData object with n_obs × n_vars = 10000 × 2884\n     obs: 'Annotation', 'SliceID'\n     var: 'means', 'variances', 'residual_variances', 'highly_variable_rank', 'highly_variable'\n     uns: '__type', 'pp'\n     obsm: 'raw_spatial', 'spatial',\n AnnData object with n_obs × n_vars = 10000 × 2906\n     obs: 'Annotation', 'SliceID'\n     var: 'means', 'variances', 'residual_variances', 'highly_variable_rank', 'highly_variable'\n     uns: '__type', 'pp'\n     obsm: 'raw_spatial', 'spatial',\n AnnData object with n_obs × n_vars = 10000 × 2927\n     obs: 'Annotation', 'SliceID'\n     var: 'means', 'variances', 'residual_variances', 'highly_variable_rank', 'highly_variable'\n     uns: '__type', 'pp'\n     obsm: 'raw_spatial', 'spatial',\n AnnData object with n_obs × n_vars = 10000 × 2910\n     obs: 'Annotation', 'SliceID'\n     var: 'means', 'variances', 'residual_variances', 'highly_variable_rank', 'highly_variable'\n     uns: '__type', 'pp'\n     obsm: 'raw_spatial', 'spatial',\n AnnData object with n_obs × n_vars = 10000 × 2906\n     obs: 'Annotation', 'SliceID'\n     var: 'means', 'variances', 'residual_variances', 'highly_variable_rank', 'highly_variable'\n     uns: '__type', 'pp'\n     obsm: 'raw_spatial', 'spatial',\n AnnData object with n_obs × n_vars = 10000 × 2872\n     obs: 'Annotation', 'SliceID'\n     var: 'means', 'variances', 'residual_variances', 'highly_variable_rank', 'highly_variable'\n     uns: '__type', 'pp'\n     obsm: 'raw_spatial', 'spatial',\n AnnData object with n_obs × n_vars = 10000 × 2969\n     obs: 'Annotation', 'SliceID'\n     var: 'means', 'variances', 'residual_variances', 'highly_variable_rank', 'highly_variable'\n     uns: '__type', 'pp'\n     obsm: 'raw_spatial', 'spatial',\n AnnData object with n_obs × n_vars = 10000 × 2988\n     obs: 'Annotation', 'SliceID'\n     var: 'means', 'variances', 'residual_variances', 'highly_variable_rank', 'highly_variable'\n     uns: '__type', 'pp'\n     obsm: 'raw_spatial', 'spatial',\n AnnData object with n_obs × n_vars = 10000 × 2991\n     obs: 'Annotation', 'SliceID'\n     var: 'means', 'variances', 'residual_variances', 'highly_variable_rank', 'highly_variable'\n     uns: '__type', 'pp'\n     obsm: 'raw_spatial', 'spatial',\n AnnData object with n_obs × n_vars = 10000 × 2980\n     obs: 'Annotation', 'SliceID'\n     var: 'means', 'variances', 'residual_variances', 'highly_variable_rank', 'highly_variable'\n     uns: '__type', 'pp'\n     obsm: 'raw_spatial', 'spatial',\n AnnData object with n_obs × n_vars = 10000 × 2977\n     obs: 'Annotation', 'SliceID'\n     var: 'means', 'variances', 'residual_variances', 'highly_variable_rank', 'highly_variable'\n     uns: '__type', 'pp'\n     obsm: 'raw_spatial', 'spatial',\n AnnData object with n_obs × n_vars = 10000 × 2974\n     obs: 'Annotation', 'SliceID'\n     var: 'means', 'variances', 'residual_variances', 'highly_variable_rank', 'highly_variable'\n     uns: '__type', 'pp'\n     obsm: 'raw_spatial', 'spatial',\n AnnData object with n_obs × n_vars = 10000 × 2966\n     obs: 'Annotation', 'SliceID'\n     var: 'means', 'variances', 'residual_variances', 'highly_variable_rank', 'highly_variable'\n     uns: '__type', 'pp'\n     obsm: 'raw_spatial', 'spatial',\n AnnData object with n_obs × n_vars = 10000 × 2902\n     obs: 'Annotation', 'SliceID'\n     var: 'means', 'variances', 'residual_variances', 'highly_variable_rank', 'highly_variable'\n     uns: '__type', 'pp'\n     obsm: 'raw_spatial', 'spatial',\n AnnData object with n_obs × n_vars = 10000 × 2921\n     obs: 'Annotation', 'SliceID'\n     var: 'means', 'variances', 'residual_variances', 'highly_variable_rank', 'highly_variable'\n     uns: '__type', 'pp'\n     obsm: 'raw_spatial', 'spatial',\n AnnData object with n_obs × n_vars = 10000 × 2935\n     obs: 'Annotation', 'SliceID'\n     var: 'means', 'variances', 'residual_variances', 'highly_variable_rank', 'highly_variable'\n     uns: '__type', 'pp'\n     obsm: 'raw_spatial', 'spatial',\n AnnData object with n_obs × n_vars = 10000 × 2876\n     obs: 'Annotation', 'SliceID'\n     var: 'means', 'variances', 'residual_variances', 'highly_variable_rank', 'highly_variable'\n     uns: '__type', 'pp'\n     obsm: 'raw_spatial', 'spatial',\n AnnData object with n_obs × n_vars = 10000 × 2954\n     obs: 'Annotation', 'SliceID'\n     var: 'means', 'variances', 'residual_variances', 'highly_variable_rank', 'highly_variable'\n     uns: '__type', 'pp'\n     obsm: 'raw_spatial', 'spatial',\n AnnData object with n_obs × n_vars = 10000 × 2931\n     obs: 'Annotation', 'SliceID'\n     var: 'means', 'variances', 'residual_variances', 'highly_variable_rank', 'highly_variable'\n     uns: '__type', 'pp'\n     obsm: 'raw_spatial', 'spatial',\n AnnData object with n_obs × n_vars = 10000 × 2913\n     obs: 'Annotation', 'SliceID'\n     var: 'means', 'variances', 'residual_variances', 'highly_variable_rank', 'highly_variable'\n     uns: '__type', 'pp'\n     obsm: 'raw_spatial', 'spatial',\n AnnData object with n_obs × n_vars = 10000 × 2958\n     obs: 'Annotation', 'SliceID'\n     var: 'means', 'variances', 'residual_variances', 'highly_variable_rank', 'highly_variable'\n     uns: '__type', 'pp'\n     obsm: 'raw_spatial', 'spatial',\n AnnData object with n_obs × n_vars = 10000 × 2945\n     obs: 'Annotation', 'SliceID'\n     var: 'means', 'variances', 'residual_variances', 'highly_variable_rank', 'highly_variable'\n     uns: '__type', 'pp'\n     obsm: 'raw_spatial', 'spatial',\n AnnData object with n_obs × n_vars = 10000 × 2947\n     obs: 'Annotation', 'SliceID'\n     var: 'means', 'variances', 'residual_variances', 'highly_variable_rank', 'highly_variable'\n     uns: '__type', 'pp'\n     obsm: 'raw_spatial', 'spatial',\n AnnData object with n_obs × n_vars = 10000 × 2888\n     obs: 'Annotation', 'SliceID'\n     var: 'means', 'variances', 'residual_variances', 'highly_variable_rank', 'highly_variable'\n     uns: '__type', 'pp'\n     obsm: 'raw_spatial', 'spatial']"
     },
     "execution_count": 2,
     "metadata": {},
     "output_type": "execute_result"
    }
   ],
   "source": [
    "os.chdir(\"/media/pc001/Yao/Projects/Project_spateo/Data/mouse_embryo/mouse_E115\")\n",
    "folder = \"hvg_slices\"\n",
    "files = [fn for root1, dirs1, files in os.walk(folder) for fn in files]\n",
    "files.sort()\n",
    "files, len(files)\n",
    "\n",
    "slices = []\n",
    "for fn in files:\n",
    "    slice_id = str(fn).split(\"_\")[3]\n",
    "    adata = st.read_h5ad(os.path.join(folder, fn))\n",
    "    slices.append(adata)\n",
    "    print(slice_id)\n",
    "slices"
   ],
   "metadata": {
    "collapsed": false,
    "ExecuteTime": {
     "end_time": "2023-07-14T16:10:03.812531284Z",
     "start_time": "2023-07-14T16:10:01.946338584Z"
    }
   }
  },
  {
   "cell_type": "code",
   "execution_count": 3,
   "outputs": [
    {
     "data": {
      "text/plain": "AnnData object with n_obs × n_vars = 834858 × 19929\n    obs: 'Annotation', 'SliceID'\n    uns: '__type', 'pp'\n    obsm: 'raw_spatial', 'spatial'"
     },
     "execution_count": 3,
     "metadata": {},
     "output_type": "execute_result"
    }
   ],
   "source": [
    "combined_adata = ad.concat(slices, fill_value=0, join=\"outer\")\n",
    "combined_adata = combined_adata[combined_adata.X.sum(axis=1) != 0, combined_adata.X.sum(axis=0) != 0]\n",
    "combined_adata.obsm[\"spatial\"] = combined_adata.obsm[\"spatial\"] - combined_adata.obsm[\"spatial\"].min(axis=0)\n",
    "combined_adata.obsm[\"raw_spatial\"] = combined_adata.obsm[\"raw_spatial\"] - combined_adata.obsm[\"raw_spatial\"].min(axis=0)\n",
    "combined_adata.uns[\"__type\"] = \"UMI\"\n",
    "combined_adata.uns[\"pp\"] = {}\n",
    "combined_adata"
   ],
   "metadata": {
    "collapsed": false,
    "ExecuteTime": {
     "end_time": "2023-07-14T16:10:05.643683091Z",
     "start_time": "2023-07-14T16:10:04.802732809Z"
    }
   }
  },
  {
   "cell_type": "markdown",
   "source": [
    "## Spateo-viewer data"
   ],
   "metadata": {
    "collapsed": false
   }
  },
  {
   "cell_type": "code",
   "execution_count": 4,
   "outputs": [],
   "source": [
    "import scanpy as sc\n",
    "hvg_adata = combined_adata.copy()\n",
    "del hvg_adata.layers\n",
    "sc.experimental.pp.highly_variable_genes(hvg_adata, n_top_genes=3000)\n",
    "hvg_adata = hvg_adata[:, hvg_adata.var.highly_variable].copy()\n",
    "# hvg_adata.write_h5ad(\"h5ad/mouse_E115_combined_hvg.h5ad\", compression=\"gzip\")"
   ],
   "metadata": {
    "collapsed": false,
    "ExecuteTime": {
     "end_time": "2023-07-14T16:12:15.430828178Z",
     "start_time": "2023-07-14T16:10:16.497893639Z"
    }
   }
  },
  {
   "cell_type": "code",
   "execution_count": 5,
   "outputs": [],
   "source": [
    "np.random.seed(19491001)\n",
    "sampling = np.random.choice(np.asarray(hvg_adata.obs_names), size=100000, replace=False)\n",
    "hvg_adata_10k = hvg_adata[sampling, :]\n",
    "hvg_adata_10k = hvg_adata_10k[hvg_adata_10k.X.sum(axis=1) != 0, hvg_adata_10k.X.sum(axis=0) != 0]\n",
    "hvg_adata_10k.write_h5ad(\"h5ad/mouse_E115_combined_hvg_10k.h5ad\", compression=\"gzip\")"
   ],
   "metadata": {
    "collapsed": false,
    "ExecuteTime": {
     "end_time": "2023-07-14T16:12:16.261365302Z",
     "start_time": "2023-07-14T16:12:15.473207604Z"
    }
   }
  },
  {
   "cell_type": "code",
   "execution_count": 6,
   "outputs": [],
   "source": [
    "np.random.seed(19491001)\n",
    "sampling = np.random.choice(np.asarray(hvg_adata.obs_names), size=300000, replace=False)\n",
    "hvg_adata_30k = hvg_adata[sampling, :]\n",
    "hvg_adata_30k = hvg_adata_30k[hvg_adata_30k.X.sum(axis=1) != 0, hvg_adata_30k.X.sum(axis=0) != 0]\n",
    "hvg_adata_30k.write_h5ad(\"h5ad/mouse_E115_combined_hvg_30k.h5ad\", compression=\"gzip\")"
   ],
   "metadata": {
    "collapsed": false,
    "ExecuteTime": {
     "end_time": "2023-07-14T16:12:17.049017838Z",
     "start_time": "2023-07-14T16:12:16.262308376Z"
    }
   }
  },
  {
   "cell_type": "code",
   "execution_count": 10,
   "outputs": [],
   "source": [],
   "metadata": {
    "collapsed": false,
    "ExecuteTime": {
     "end_time": "2023-07-11T17:03:59.993450882Z",
     "start_time": "2023-07-11T17:03:59.992669174Z"
    }
   }
  }
 ],
 "metadata": {
  "kernelspec": {
   "display_name": "Python 3",
   "language": "python",
   "name": "python3"
  },
  "language_info": {
   "codemirror_mode": {
    "name": "ipython",
    "version": 2
   },
   "file_extension": ".py",
   "mimetype": "text/x-python",
   "name": "python",
   "nbconvert_exporter": "python",
   "pygments_lexer": "ipython2",
   "version": "2.7.6"
  }
 },
 "nbformat": 4,
 "nbformat_minor": 0
}
