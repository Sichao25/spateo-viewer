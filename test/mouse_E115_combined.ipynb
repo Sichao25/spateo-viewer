{
 "cells": [
  {
   "cell_type": "code",
   "execution_count": 1,
   "metadata": {
    "collapsed": true,
    "ExecuteTime": {
     "end_time": "2023-07-12T16:01:35.621082460Z",
     "start_time": "2023-07-12T16:01:28.911061241Z"
    }
   },
   "outputs": [
    {
     "name": "stderr",
     "output_type": "stream",
     "text": [
      "2023-07-13 00:01:31.743076: W tensorflow/compiler/tf2tensorrt/utils/py_utils.cc:38] TF-TRT Warning: Could not find TensorRT\n"
     ]
    }
   ],
   "source": [
    "import os\n",
    "\n",
    "import anndata as ad\n",
    "import spateo as st\n",
    "import numpy as np\n",
    "import matplotlib.pyplot as plt"
   ]
  },
  {
   "cell_type": "code",
   "execution_count": 2,
   "outputs": [
    {
     "data": {
      "text/plain": "(['0_regis_anno_S01_D01153A4_h5ad.h5ad',\n  '10_regis_anno_S11_A00792E3_h5ad.h5ad',\n  '11_regis_anno_S12_A00302E3_h5ad.h5ad',\n  '12_regis_anno_S13_A00302B4_h5ad.h5ad',\n  '13_regis_anno_S14_A00302B5_h5ad.h5ad',\n  '14_regis_anno_S15_A00302B6_h5ad.h5ad',\n  '15_regis_anno_S16_A00302C4_h5ad.h5ad',\n  '16_regis_anno_S17_C00842D4_h5ad.h5ad',\n  '17_regis_anno_S18_C00842A5_h5ad.h5ad',\n  '18_regis_anno_S19_C00842B4_h5ad.h5ad',\n  '19_regis_anno_S20_C00842B5_h5ad.h5ad',\n  '1_regis_anno_S02_D01153A5_h5ad.h5ad',\n  '20_regis_anno_S21_C00842B6_h5ad.h5ad',\n  '21_regis_anno_S22_C00842C4_h5ad.h5ad',\n  '22_regis_anno_S23_C00842D5_h5ad.h5ad',\n  '23_regis_anno_S24_D01153F1_h5ad.h5ad',\n  '24_regis_anno_S25_A01085B6_h5ad.h5ad',\n  '25_regis_anno_S26_A01085A6_h5ad.h5ad',\n  '26_regis_anno_S27_A01085B4_h5ad.h5ad',\n  '27_regis_anno_S28_A01085B5_h5ad.h5ad',\n  '28_regis_anno_S29_A01085C4_h5ad.h5ad',\n  '29_regis_anno_S30_A01085C5_h5ad.h5ad',\n  '2_regis_anno_S03_D01153A6_h5ad.h5ad',\n  '30_regis_anno_S31_A01085C6_h5ad.h5ad',\n  '32_regis_anno_S33_D01153B5_h5ad.h5ad',\n  '33_regis_anno_S34_D01153B6_h5ad.h5ad',\n  '34_regis_anno_S35_D01153C4_h5ad.h5ad',\n  '35_regis_anno_S36_D01153C5_h5ad.h5ad',\n  '36_regis_anno_S37_C00554A1_h5ad.h5ad',\n  '37_regis_anno_S38_C00554A2_h5ad.h5ad',\n  '38_regis_anno_S39_C00554A3_h5ad.h5ad',\n  '39_regis_anno_S40_C00554B1_h5ad.h5ad',\n  '3_regis_anno_S04_D01153B4_h5ad.h5ad',\n  '40_regis_anno_S41_B01209B5_h5ad.h5ad',\n  '41_regis_anno_S42_B01209B6_h5ad.h5ad',\n  '42_regis_anno_S43_B01209C5_h5ad.h5ad',\n  '43_regis_anno_S44_B01209C6_h5ad.h5ad',\n  '44_regis_anno_S45_A00792B2_h5ad.h5ad',\n  '45_regis_anno_S46_A00792B3_h5ad.h5ad',\n  '46_regis_anno_S47_A00792C1_h5ad.h5ad',\n  '47_regis_anno_S48_A00792C2_h5ad.h5ad',\n  '48_regis_anno_S49_A00792D2_h5ad.h5ad',\n  '49_regis_anno_S50_A00792D3_h5ad.h5ad',\n  '4_regis_anno_S05_A00792A2_h5ad.h5ad',\n  '50_regis_anno_S51_A00792E1_h5ad.h5ad',\n  '51_regis_anno_S52_A00792E2_h5ad.h5ad',\n  '52_regis_anno_S53_A00302C5_h5ad.h5ad',\n  '53_regis_anno_S54_A00302C6_h5ad.h5ad',\n  '54_regis_anno_S55_A00302D4_h5ad.h5ad',\n  '55_regis_anno_S56_A00302D5_h5ad.h5ad',\n  '56_regis_anno_S57_C00842D6_h5ad.h5ad',\n  '57_regis_anno_S58_C00842E4_h5ad.h5ad',\n  '58_regis_anno_S59_C00842E5_h5ad.h5ad',\n  '59_regis_anno_S60_A01085D6_h5ad.h5ad',\n  '5_regis_anno_S06_A00792A3_h5ad.h5ad',\n  '60_regis_anno_S65_A00302F1_h5ad.h5ad',\n  '61_regis_anno_S66_A00302F2_h5ad.h5ad',\n  '62_regis_anno_S67_A00302F3_h5ad.h5ad',\n  '63_regis_anno_S68_A00302F4_h5ad.h5ad',\n  '64_regis_anno_S69_D01153E1_h5ad.h5ad',\n  '65_regis_anno_S70_D01153E2_h5ad.h5ad',\n  '66_regis_anno_S71_D01153E3_h5ad.h5ad',\n  '67_regis_anno_S73_D01153C6_h5ad.h5ad',\n  '68_regis_anno_S74_D01153D1_h5ad.h5ad',\n  '69_regis_anno_S75_D01153D2_h5ad.h5ad',\n  '6_regis_anno_S07_A00792C3_h5ad.h5ad',\n  '70_regis_anno_S76_D01153D3_h5ad.h5ad',\n  '71_regis_anno_S77_A00797D2_h5ad.h5ad',\n  '72_regis_anno_S78_A00797D3_h5ad.h5ad',\n  '73_regis_anno_S79_A00797E1_h5ad.h5ad',\n  '74_regis_anno_S80_A00797E2_h5ad.h5ad',\n  '75_regis_anno_S81_A00797D4_h5ad.h5ad',\n  '76_regis_anno_S82_A00797F4_h5ad.h5ad',\n  '77_regis_anno_S83_A00797E3_h5ad.h5ad',\n  '78_regis_anno_S84_A00797E4_h5ad.h5ad',\n  '79_regis_anno_S85_A00797F1_h5ad.h5ad',\n  '7_regis_anno_S08_A00792D1_h5ad.h5ad',\n  '80_regis_anno_S86_A00797F2_h5ad.h5ad',\n  '81_regis_anno_S87_A01186C2_h5ad.h5ad',\n  '82_regis_anno_S88_A01186C3_h5ad.h5ad',\n  '83_regis_anno_S89_A01186C4_h5ad.h5ad',\n  '84_regis_anno_S90_A01186C5_h5ad.h5ad',\n  '85_regis_anno_S91_A00797F5_h5ad.h5ad',\n  '8_regis_anno_S09_A00302D6_h5ad.h5ad'],\n 84)"
     },
     "execution_count": 2,
     "metadata": {},
     "output_type": "execute_result"
    }
   ],
   "source": [
    "os.chdir(\"/media/pc001/Yao/Projects/Project_spateo/Data/mouse_embryo/mouse_E115\")\n",
    "folder = \"slices\"\n",
    "files = [fn for root1, dirs1, files in os.walk(folder) for fn in files]\n",
    "files.sort()\n",
    "files, len(files)"
   ],
   "metadata": {
    "collapsed": false,
    "ExecuteTime": {
     "end_time": "2023-07-12T16:01:36.345712430Z",
     "start_time": "2023-07-12T16:01:35.623241425Z"
    }
   }
  },
  {
   "cell_type": "code",
   "execution_count": 3,
   "outputs": [
    {
     "data": {
      "text/plain": "AnnData object with n_obs × n_vars = 67437 × 28120\n    obs: 'ctype_user'\n    uns: '__type', 'color_ManualAnnotation', 'pp', 'spatial'\n    obsm: 'global_optimization', 'pairwise_align', 'spatial', 'spatial_regis', 'z_correction'"
     },
     "execution_count": 3,
     "metadata": {},
     "output_type": "execute_result"
    }
   ],
   "source": [
    "adata = st.read_h5ad(os.path.join(folder, files[0]))\n",
    "adata"
   ],
   "metadata": {
    "collapsed": false,
    "ExecuteTime": {
     "end_time": "2023-07-12T16:01:58.088587408Z",
     "start_time": "2023-07-12T16:01:36.384006521Z"
    }
   }
  },
  {
   "cell_type": "code",
   "execution_count": 4,
   "outputs": [
    {
     "name": "stdout",
     "output_type": "stream",
     "text": [
      "AnnData object with n_obs × n_vars = 67437 × 28120\n",
      "    obs: 'Annotation', 'SliceID'\n",
      "    uns: '__type', 'pp'\n",
      "    obsm: 'spatial', 'raw_spatial'\n",
      "AnnData object with n_obs × n_vars = 108514 × 27233\n",
      "    obs: 'Annotation', 'SliceID'\n",
      "    uns: '__type', 'pp'\n",
      "    obsm: 'spatial', 'raw_spatial'\n",
      "AnnData object with n_obs × n_vars = 83368 × 26881\n",
      "    obs: 'Annotation', 'SliceID'\n",
      "    uns: '__type', 'pp'\n",
      "    obsm: 'spatial', 'raw_spatial'\n",
      "AnnData object with n_obs × n_vars = 87530 × 26862\n",
      "    obs: 'Annotation', 'SliceID'\n",
      "    uns: '__type', 'pp'\n",
      "    obsm: 'spatial', 'raw_spatial'\n",
      "AnnData object with n_obs × n_vars = 92753 × 26248\n",
      "    obs: 'Annotation', 'SliceID'\n",
      "    uns: '__type', 'pp'\n",
      "    obsm: 'spatial', 'raw_spatial'\n",
      "AnnData object with n_obs × n_vars = 61980 × 25475\n",
      "    obs: 'Annotation', 'SliceID'\n",
      "    uns: '__type', 'pp'\n",
      "    obsm: 'spatial', 'raw_spatial'\n",
      "AnnData object with n_obs × n_vars = 93644 × 26407\n",
      "    obs: 'Annotation', 'SliceID'\n",
      "    uns: '__type', 'pp'\n",
      "    obsm: 'spatial', 'raw_spatial'\n",
      "AnnData object with n_obs × n_vars = 125628 × 25770\n",
      "    obs: 'Annotation', 'SliceID'\n",
      "    uns: '__type', 'pp'\n",
      "    obsm: 'spatial', 'raw_spatial'\n",
      "AnnData object with n_obs × n_vars = 112787 × 25394\n",
      "    obs: 'Annotation', 'SliceID'\n",
      "    uns: '__type', 'pp'\n",
      "    obsm: 'spatial', 'raw_spatial'\n",
      "AnnData object with n_obs × n_vars = 116406 × 26488\n",
      "    obs: 'Annotation', 'SliceID'\n",
      "    uns: '__type', 'pp'\n",
      "    obsm: 'spatial', 'raw_spatial'\n",
      "AnnData object with n_obs × n_vars = 113138 × 25392\n",
      "    obs: 'Annotation', 'SliceID'\n",
      "    uns: '__type', 'pp'\n",
      "    obsm: 'spatial', 'raw_spatial'\n",
      "AnnData object with n_obs × n_vars = 61556 × 27347\n",
      "    obs: 'Annotation', 'SliceID'\n",
      "    uns: '__type', 'pp'\n",
      "    obsm: 'spatial', 'raw_spatial'\n",
      "AnnData object with n_obs × n_vars = 129778 × 26230\n",
      "    obs: 'Annotation', 'SliceID'\n",
      "    uns: '__type', 'pp'\n",
      "    obsm: 'spatial', 'raw_spatial'\n",
      "AnnData object with n_obs × n_vars = 107389 × 26255\n",
      "    obs: 'Annotation', 'SliceID'\n",
      "    uns: '__type', 'pp'\n",
      "    obsm: 'spatial', 'raw_spatial'\n",
      "AnnData object with n_obs × n_vars = 134187 × 25777\n",
      "    obs: 'Annotation', 'SliceID'\n",
      "    uns: '__type', 'pp'\n",
      "    obsm: 'spatial', 'raw_spatial'\n",
      "AnnData object with n_obs × n_vars = 91849 × 27031\n",
      "    obs: 'Annotation', 'SliceID'\n",
      "    uns: '__type', 'pp'\n",
      "    obsm: 'spatial', 'raw_spatial'\n",
      "AnnData object with n_obs × n_vars = 153476 × 27850\n",
      "    obs: 'Annotation', 'SliceID'\n",
      "    uns: '__type', 'pp'\n",
      "    obsm: 'spatial', 'raw_spatial'\n",
      "AnnData object with n_obs × n_vars = 139558 × 27578\n",
      "    obs: 'Annotation', 'SliceID'\n",
      "    uns: '__type', 'pp'\n",
      "    obsm: 'spatial', 'raw_spatial'\n",
      "AnnData object with n_obs × n_vars = 140410 × 27724\n",
      "    obs: 'Annotation', 'SliceID'\n",
      "    uns: '__type', 'pp'\n",
      "    obsm: 'spatial', 'raw_spatial'\n",
      "AnnData object with n_obs × n_vars = 136713 × 27354\n",
      "    obs: 'Annotation', 'SliceID'\n",
      "    uns: '__type', 'pp'\n",
      "    obsm: 'spatial', 'raw_spatial'\n",
      "AnnData object with n_obs × n_vars = 156316 × 27402\n",
      "    obs: 'Annotation', 'SliceID'\n",
      "    uns: '__type', 'pp'\n",
      "    obsm: 'spatial', 'raw_spatial'\n",
      "AnnData object with n_obs × n_vars = 140305 × 27249\n",
      "    obs: 'Annotation', 'SliceID'\n",
      "    uns: '__type', 'pp'\n",
      "    obsm: 'spatial', 'raw_spatial'\n",
      "AnnData object with n_obs × n_vars = 68612 × 27616\n",
      "    obs: 'Annotation', 'SliceID'\n",
      "    uns: '__type', 'pp'\n",
      "    obsm: 'spatial', 'raw_spatial'\n",
      "AnnData object with n_obs × n_vars = 139457 × 27494\n",
      "    obs: 'Annotation', 'SliceID'\n",
      "    uns: '__type', 'pp'\n",
      "    obsm: 'spatial', 'raw_spatial'\n",
      "AnnData object with n_obs × n_vars = 153741 × 28266\n",
      "    obs: 'Annotation', 'SliceID'\n",
      "    uns: '__type', 'pp'\n",
      "    obsm: 'spatial', 'raw_spatial'\n",
      "AnnData object with n_obs × n_vars = 83353 × 27027\n",
      "    obs: 'Annotation', 'SliceID'\n",
      "    uns: '__type', 'pp'\n",
      "    obsm: 'spatial', 'raw_spatial'\n",
      "AnnData object with n_obs × n_vars = 157744 × 28704\n",
      "    obs: 'Annotation', 'SliceID'\n",
      "    uns: '__type', 'pp'\n",
      "    obsm: 'spatial', 'raw_spatial'\n",
      "AnnData object with n_obs × n_vars = 148559 × 28511\n",
      "    obs: 'Annotation', 'SliceID'\n",
      "    uns: '__type', 'pp'\n",
      "    obsm: 'spatial', 'raw_spatial'\n",
      "AnnData object with n_obs × n_vars = 91422 × 26736\n",
      "    obs: 'Annotation', 'SliceID'\n",
      "    uns: '__type', 'pp'\n",
      "    obsm: 'spatial', 'raw_spatial'\n",
      "AnnData object with n_obs × n_vars = 89577 × 26482\n",
      "    obs: 'Annotation', 'SliceID'\n",
      "    uns: '__type', 'pp'\n",
      "    obsm: 'spatial', 'raw_spatial'\n",
      "AnnData object with n_obs × n_vars = 106545 × 26992\n",
      "    obs: 'Annotation', 'SliceID'\n",
      "    uns: '__type', 'pp'\n",
      "    obsm: 'spatial', 'raw_spatial'\n",
      "AnnData object with n_obs × n_vars = 94388 × 26298\n",
      "    obs: 'Annotation', 'SliceID'\n",
      "    uns: '__type', 'pp'\n",
      "    obsm: 'spatial', 'raw_spatial'\n",
      "AnnData object with n_obs × n_vars = 73653 × 27953\n",
      "    obs: 'Annotation', 'SliceID'\n",
      "    uns: '__type', 'pp'\n",
      "    obsm: 'spatial', 'raw_spatial'\n",
      "AnnData object with n_obs × n_vars = 156777 × 27994\n",
      "    obs: 'Annotation', 'SliceID'\n",
      "    uns: '__type', 'pp'\n",
      "    obsm: 'spatial', 'raw_spatial'\n",
      "AnnData object with n_obs × n_vars = 134143 × 27356\n",
      "    obs: 'Annotation', 'SliceID'\n",
      "    uns: '__type', 'pp'\n",
      "    obsm: 'spatial', 'raw_spatial'\n",
      "AnnData object with n_obs × n_vars = 135182 × 28050\n",
      "    obs: 'Annotation', 'SliceID'\n",
      "    uns: '__type', 'pp'\n",
      "    obsm: 'spatial', 'raw_spatial'\n",
      "AnnData object with n_obs × n_vars = 103279 × 27720\n",
      "    obs: 'Annotation', 'SliceID'\n",
      "    uns: '__type', 'pp'\n",
      "    obsm: 'spatial', 'raw_spatial'\n",
      "AnnData object with n_obs × n_vars = 107899 × 26784\n",
      "    obs: 'Annotation', 'SliceID'\n",
      "    uns: '__type', 'pp'\n",
      "    obsm: 'spatial', 'raw_spatial'\n",
      "AnnData object with n_obs × n_vars = 102973 × 26425\n",
      "    obs: 'Annotation', 'SliceID'\n",
      "    uns: '__type', 'pp'\n",
      "    obsm: 'spatial', 'raw_spatial'\n",
      "AnnData object with n_obs × n_vars = 122973 × 27254\n",
      "    obs: 'Annotation', 'SliceID'\n",
      "    uns: '__type', 'pp'\n",
      "    obsm: 'spatial', 'raw_spatial'\n",
      "AnnData object with n_obs × n_vars = 118604 × 26993\n",
      "    obs: 'Annotation', 'SliceID'\n",
      "    uns: '__type', 'pp'\n",
      "    obsm: 'spatial', 'raw_spatial'\n",
      "AnnData object with n_obs × n_vars = 112639 × 28108\n",
      "    obs: 'Annotation', 'SliceID'\n",
      "    uns: '__type', 'pp'\n",
      "    obsm: 'spatial', 'raw_spatial'\n",
      "AnnData object with n_obs × n_vars = 100114 × 26652\n",
      "    obs: 'Annotation', 'SliceID'\n",
      "    uns: '__type', 'pp'\n",
      "    obsm: 'spatial', 'raw_spatial'\n",
      "AnnData object with n_obs × n_vars = 87822 × 27474\n",
      "    obs: 'Annotation', 'SliceID'\n",
      "    uns: '__type', 'pp'\n",
      "    obsm: 'spatial', 'raw_spatial'\n",
      "AnnData object with n_obs × n_vars = 109862 × 27642\n",
      "    obs: 'Annotation', 'SliceID'\n",
      "    uns: '__type', 'pp'\n",
      "    obsm: 'spatial', 'raw_spatial'\n",
      "AnnData object with n_obs × n_vars = 111335 × 27510\n",
      "    obs: 'Annotation', 'SliceID'\n",
      "    uns: '__type', 'pp'\n",
      "    obsm: 'spatial', 'raw_spatial'\n",
      "AnnData object with n_obs × n_vars = 64968 × 26577\n",
      "    obs: 'Annotation', 'SliceID'\n",
      "    uns: '__type', 'pp'\n",
      "    obsm: 'spatial', 'raw_spatial'\n",
      "AnnData object with n_obs × n_vars = 4858 × 25122\n",
      "    obs: 'Annotation', 'SliceID'\n",
      "    uns: '__type', 'pp'\n",
      "    obsm: 'spatial', 'raw_spatial'\n",
      "AnnData object with n_obs × n_vars = 69231 × 25666\n",
      "    obs: 'Annotation', 'SliceID'\n",
      "    uns: '__type', 'pp'\n",
      "    obsm: 'spatial', 'raw_spatial'\n",
      "AnnData object with n_obs × n_vars = 85027 × 25960\n",
      "    obs: 'Annotation', 'SliceID'\n",
      "    uns: '__type', 'pp'\n",
      "    obsm: 'spatial', 'raw_spatial'\n",
      "AnnData object with n_obs × n_vars = 110747 × 26822\n",
      "    obs: 'Annotation', 'SliceID'\n",
      "    uns: '__type', 'pp'\n",
      "    obsm: 'spatial', 'raw_spatial'\n",
      "AnnData object with n_obs × n_vars = 103608 × 26701\n",
      "    obs: 'Annotation', 'SliceID'\n",
      "    uns: '__type', 'pp'\n",
      "    obsm: 'spatial', 'raw_spatial'\n",
      "AnnData object with n_obs × n_vars = 91353 × 25885\n",
      "    obs: 'Annotation', 'SliceID'\n",
      "    uns: '__type', 'pp'\n",
      "    obsm: 'spatial', 'raw_spatial'\n",
      "AnnData object with n_obs × n_vars = 94410 × 27406\n",
      "    obs: 'Annotation', 'SliceID'\n",
      "    uns: '__type', 'pp'\n",
      "    obsm: 'spatial', 'raw_spatial'\n",
      "AnnData object with n_obs × n_vars = 95101 × 27919\n",
      "    obs: 'Annotation', 'SliceID'\n",
      "    uns: '__type', 'pp'\n",
      "    obsm: 'spatial', 'raw_spatial'\n",
      "AnnData object with n_obs × n_vars = 77758 × 25933\n",
      "    obs: 'Annotation', 'SliceID'\n",
      "    uns: '__type', 'pp'\n",
      "    obsm: 'spatial', 'raw_spatial'\n",
      "AnnData object with n_obs × n_vars = 78131 × 25177\n",
      "    obs: 'Annotation', 'SliceID'\n",
      "    uns: '__type', 'pp'\n",
      "    obsm: 'spatial', 'raw_spatial'\n",
      "AnnData object with n_obs × n_vars = 67160 × 25343\n",
      "    obs: 'Annotation', 'SliceID'\n",
      "    uns: '__type', 'pp'\n",
      "    obsm: 'spatial', 'raw_spatial'\n",
      "AnnData object with n_obs × n_vars = 59331 × 25592\n",
      "    obs: 'Annotation', 'SliceID'\n",
      "    uns: '__type', 'pp'\n",
      "    obsm: 'spatial', 'raw_spatial'\n",
      "AnnData object with n_obs × n_vars = 77244 × 27379\n",
      "    obs: 'Annotation', 'SliceID'\n",
      "    uns: '__type', 'pp'\n",
      "    obsm: 'spatial', 'raw_spatial'\n",
      "AnnData object with n_obs × n_vars = 93582 × 27536\n",
      "    obs: 'Annotation', 'SliceID'\n",
      "    uns: '__type', 'pp'\n",
      "    obsm: 'spatial', 'raw_spatial'\n",
      "AnnData object with n_obs × n_vars = 88530 × 27582\n",
      "    obs: 'Annotation', 'SliceID'\n",
      "    uns: '__type', 'pp'\n",
      "    obsm: 'spatial', 'raw_spatial'\n",
      "AnnData object with n_obs × n_vars = 83223 × 26784\n",
      "    obs: 'Annotation', 'SliceID'\n",
      "    uns: '__type', 'pp'\n",
      "    obsm: 'spatial', 'raw_spatial'\n",
      "AnnData object with n_obs × n_vars = 84572 × 26848\n",
      "    obs: 'Annotation', 'SliceID'\n",
      "    uns: '__type', 'pp'\n",
      "    obsm: 'spatial', 'raw_spatial'\n",
      "AnnData object with n_obs × n_vars = 83259 × 27109\n",
      "    obs: 'Annotation', 'SliceID'\n",
      "    uns: '__type', 'pp'\n",
      "    obsm: 'spatial', 'raw_spatial'\n",
      "AnnData object with n_obs × n_vars = 105457 × 27563\n",
      "    obs: 'Annotation', 'SliceID'\n",
      "    uns: '__type', 'pp'\n",
      "    obsm: 'spatial', 'raw_spatial'\n",
      "AnnData object with n_obs × n_vars = 49950 × 26470\n",
      "    obs: 'Annotation', 'SliceID'\n",
      "    uns: '__type', 'pp'\n",
      "    obsm: 'spatial', 'raw_spatial'\n",
      "AnnData object with n_obs × n_vars = 34269 × 27287\n",
      "    obs: 'Annotation', 'SliceID'\n",
      "    uns: '__type', 'pp'\n",
      "    obsm: 'spatial', 'raw_spatial'\n",
      "AnnData object with n_obs × n_vars = 33061 × 27467\n",
      "    obs: 'Annotation', 'SliceID'\n",
      "    uns: '__type', 'pp'\n",
      "    obsm: 'spatial', 'raw_spatial'\n",
      "AnnData object with n_obs × n_vars = 42784 × 27327\n",
      "    obs: 'Annotation', 'SliceID'\n",
      "    uns: '__type', 'pp'\n",
      "    obsm: 'spatial', 'raw_spatial'\n",
      "AnnData object with n_obs × n_vars = 37487 × 28793\n",
      "    obs: 'Annotation', 'SliceID'\n",
      "    uns: '__type', 'pp'\n",
      "    obsm: 'spatial', 'raw_spatial'\n",
      "AnnData object with n_obs × n_vars = 43864 × 28838\n",
      "    obs: 'Annotation', 'SliceID'\n",
      "    uns: '__type', 'pp'\n",
      "    obsm: 'spatial', 'raw_spatial'\n",
      "AnnData object with n_obs × n_vars = 48297 × 28970\n",
      "    obs: 'Annotation', 'SliceID'\n",
      "    uns: '__type', 'pp'\n",
      "    obsm: 'spatial', 'raw_spatial'\n",
      "AnnData object with n_obs × n_vars = 63141 × 29053\n",
      "    obs: 'Annotation', 'SliceID'\n",
      "    uns: '__type', 'pp'\n",
      "    obsm: 'spatial', 'raw_spatial'\n",
      "AnnData object with n_obs × n_vars = 72619 × 27790\n",
      "    obs: 'Annotation', 'SliceID'\n",
      "    uns: '__type', 'pp'\n",
      "    obsm: 'spatial', 'raw_spatial'\n",
      "AnnData object with n_obs × n_vars = 70960 × 26614\n",
      "    obs: 'Annotation', 'SliceID'\n",
      "    uns: '__type', 'pp'\n",
      "    obsm: 'spatial', 'raw_spatial'\n",
      "AnnData object with n_obs × n_vars = 99886 × 27770\n",
      "    obs: 'Annotation', 'SliceID'\n",
      "    uns: '__type', 'pp'\n",
      "    obsm: 'spatial', 'raw_spatial'\n",
      "AnnData object with n_obs × n_vars = 63304 × 26328\n",
      "    obs: 'Annotation', 'SliceID'\n",
      "    uns: '__type', 'pp'\n",
      "    obsm: 'spatial', 'raw_spatial'\n",
      "AnnData object with n_obs × n_vars = 69811 × 27614\n",
      "    obs: 'Annotation', 'SliceID'\n",
      "    uns: '__type', 'pp'\n",
      "    obsm: 'spatial', 'raw_spatial'\n",
      "AnnData object with n_obs × n_vars = 61079 × 27492\n",
      "    obs: 'Annotation', 'SliceID'\n",
      "    uns: '__type', 'pp'\n",
      "    obsm: 'spatial', 'raw_spatial'\n",
      "AnnData object with n_obs × n_vars = 49208 × 27081\n",
      "    obs: 'Annotation', 'SliceID'\n",
      "    uns: '__type', 'pp'\n",
      "    obsm: 'spatial', 'raw_spatial'\n",
      "AnnData object with n_obs × n_vars = 69209 × 26594\n",
      "    obs: 'Annotation', 'SliceID'\n",
      "    uns: '__type', 'pp'\n",
      "    obsm: 'spatial', 'raw_spatial'\n",
      "AnnData object with n_obs × n_vars = 61474 × 25407\n",
      "    obs: 'Annotation', 'SliceID'\n",
      "    uns: '__type', 'pp'\n",
      "    obsm: 'spatial', 'raw_spatial'\n",
      "AnnData object with n_obs × n_vars = 77274 × 26144\n",
      "    obs: 'Annotation', 'SliceID'\n",
      "    uns: '__type', 'pp'\n",
      "    obsm: 'spatial', 'raw_spatial'\n"
     ]
    },
    {
     "data": {
      "text/plain": "[AnnData object with n_obs × n_vars = 67437 × 28120\n     obs: 'Annotation', 'SliceID'\n     uns: '__type', 'pp'\n     obsm: 'spatial', 'raw_spatial',\n AnnData object with n_obs × n_vars = 108514 × 27233\n     obs: 'Annotation', 'SliceID'\n     uns: '__type', 'pp'\n     obsm: 'spatial', 'raw_spatial',\n AnnData object with n_obs × n_vars = 83368 × 26881\n     obs: 'Annotation', 'SliceID'\n     uns: '__type', 'pp'\n     obsm: 'spatial', 'raw_spatial',\n AnnData object with n_obs × n_vars = 87530 × 26862\n     obs: 'Annotation', 'SliceID'\n     uns: '__type', 'pp'\n     obsm: 'spatial', 'raw_spatial',\n AnnData object with n_obs × n_vars = 92753 × 26248\n     obs: 'Annotation', 'SliceID'\n     uns: '__type', 'pp'\n     obsm: 'spatial', 'raw_spatial',\n AnnData object with n_obs × n_vars = 61980 × 25475\n     obs: 'Annotation', 'SliceID'\n     uns: '__type', 'pp'\n     obsm: 'spatial', 'raw_spatial',\n AnnData object with n_obs × n_vars = 93644 × 26407\n     obs: 'Annotation', 'SliceID'\n     uns: '__type', 'pp'\n     obsm: 'spatial', 'raw_spatial',\n AnnData object with n_obs × n_vars = 125628 × 25770\n     obs: 'Annotation', 'SliceID'\n     uns: '__type', 'pp'\n     obsm: 'spatial', 'raw_spatial',\n AnnData object with n_obs × n_vars = 112787 × 25394\n     obs: 'Annotation', 'SliceID'\n     uns: '__type', 'pp'\n     obsm: 'spatial', 'raw_spatial',\n AnnData object with n_obs × n_vars = 116406 × 26488\n     obs: 'Annotation', 'SliceID'\n     uns: '__type', 'pp'\n     obsm: 'spatial', 'raw_spatial',\n AnnData object with n_obs × n_vars = 113138 × 25392\n     obs: 'Annotation', 'SliceID'\n     uns: '__type', 'pp'\n     obsm: 'spatial', 'raw_spatial',\n AnnData object with n_obs × n_vars = 61556 × 27347\n     obs: 'Annotation', 'SliceID'\n     uns: '__type', 'pp'\n     obsm: 'spatial', 'raw_spatial',\n AnnData object with n_obs × n_vars = 129778 × 26230\n     obs: 'Annotation', 'SliceID'\n     uns: '__type', 'pp'\n     obsm: 'spatial', 'raw_spatial',\n AnnData object with n_obs × n_vars = 107389 × 26255\n     obs: 'Annotation', 'SliceID'\n     uns: '__type', 'pp'\n     obsm: 'spatial', 'raw_spatial',\n AnnData object with n_obs × n_vars = 134187 × 25777\n     obs: 'Annotation', 'SliceID'\n     uns: '__type', 'pp'\n     obsm: 'spatial', 'raw_spatial',\n AnnData object with n_obs × n_vars = 91849 × 27031\n     obs: 'Annotation', 'SliceID'\n     uns: '__type', 'pp'\n     obsm: 'spatial', 'raw_spatial',\n AnnData object with n_obs × n_vars = 153476 × 27850\n     obs: 'Annotation', 'SliceID'\n     uns: '__type', 'pp'\n     obsm: 'spatial', 'raw_spatial',\n AnnData object with n_obs × n_vars = 139558 × 27578\n     obs: 'Annotation', 'SliceID'\n     uns: '__type', 'pp'\n     obsm: 'spatial', 'raw_spatial',\n AnnData object with n_obs × n_vars = 140410 × 27724\n     obs: 'Annotation', 'SliceID'\n     uns: '__type', 'pp'\n     obsm: 'spatial', 'raw_spatial',\n AnnData object with n_obs × n_vars = 136713 × 27354\n     obs: 'Annotation', 'SliceID'\n     uns: '__type', 'pp'\n     obsm: 'spatial', 'raw_spatial',\n AnnData object with n_obs × n_vars = 156316 × 27402\n     obs: 'Annotation', 'SliceID'\n     uns: '__type', 'pp'\n     obsm: 'spatial', 'raw_spatial',\n AnnData object with n_obs × n_vars = 140305 × 27249\n     obs: 'Annotation', 'SliceID'\n     uns: '__type', 'pp'\n     obsm: 'spatial', 'raw_spatial',\n AnnData object with n_obs × n_vars = 68612 × 27616\n     obs: 'Annotation', 'SliceID'\n     uns: '__type', 'pp'\n     obsm: 'spatial', 'raw_spatial',\n AnnData object with n_obs × n_vars = 139457 × 27494\n     obs: 'Annotation', 'SliceID'\n     uns: '__type', 'pp'\n     obsm: 'spatial', 'raw_spatial',\n AnnData object with n_obs × n_vars = 153741 × 28266\n     obs: 'Annotation', 'SliceID'\n     uns: '__type', 'pp'\n     obsm: 'spatial', 'raw_spatial',\n AnnData object with n_obs × n_vars = 83353 × 27027\n     obs: 'Annotation', 'SliceID'\n     uns: '__type', 'pp'\n     obsm: 'spatial', 'raw_spatial',\n AnnData object with n_obs × n_vars = 157744 × 28704\n     obs: 'Annotation', 'SliceID'\n     uns: '__type', 'pp'\n     obsm: 'spatial', 'raw_spatial',\n AnnData object with n_obs × n_vars = 148559 × 28511\n     obs: 'Annotation', 'SliceID'\n     uns: '__type', 'pp'\n     obsm: 'spatial', 'raw_spatial',\n AnnData object with n_obs × n_vars = 91422 × 26736\n     obs: 'Annotation', 'SliceID'\n     uns: '__type', 'pp'\n     obsm: 'spatial', 'raw_spatial',\n AnnData object with n_obs × n_vars = 89577 × 26482\n     obs: 'Annotation', 'SliceID'\n     uns: '__type', 'pp'\n     obsm: 'spatial', 'raw_spatial',\n AnnData object with n_obs × n_vars = 106545 × 26992\n     obs: 'Annotation', 'SliceID'\n     uns: '__type', 'pp'\n     obsm: 'spatial', 'raw_spatial',\n AnnData object with n_obs × n_vars = 94388 × 26298\n     obs: 'Annotation', 'SliceID'\n     uns: '__type', 'pp'\n     obsm: 'spatial', 'raw_spatial',\n AnnData object with n_obs × n_vars = 73653 × 27953\n     obs: 'Annotation', 'SliceID'\n     uns: '__type', 'pp'\n     obsm: 'spatial', 'raw_spatial',\n AnnData object with n_obs × n_vars = 156777 × 27994\n     obs: 'Annotation', 'SliceID'\n     uns: '__type', 'pp'\n     obsm: 'spatial', 'raw_spatial',\n AnnData object with n_obs × n_vars = 134143 × 27356\n     obs: 'Annotation', 'SliceID'\n     uns: '__type', 'pp'\n     obsm: 'spatial', 'raw_spatial',\n AnnData object with n_obs × n_vars = 135182 × 28050\n     obs: 'Annotation', 'SliceID'\n     uns: '__type', 'pp'\n     obsm: 'spatial', 'raw_spatial',\n AnnData object with n_obs × n_vars = 103279 × 27720\n     obs: 'Annotation', 'SliceID'\n     uns: '__type', 'pp'\n     obsm: 'spatial', 'raw_spatial',\n AnnData object with n_obs × n_vars = 107899 × 26784\n     obs: 'Annotation', 'SliceID'\n     uns: '__type', 'pp'\n     obsm: 'spatial', 'raw_spatial',\n AnnData object with n_obs × n_vars = 102973 × 26425\n     obs: 'Annotation', 'SliceID'\n     uns: '__type', 'pp'\n     obsm: 'spatial', 'raw_spatial',\n AnnData object with n_obs × n_vars = 122973 × 27254\n     obs: 'Annotation', 'SliceID'\n     uns: '__type', 'pp'\n     obsm: 'spatial', 'raw_spatial',\n AnnData object with n_obs × n_vars = 118604 × 26993\n     obs: 'Annotation', 'SliceID'\n     uns: '__type', 'pp'\n     obsm: 'spatial', 'raw_spatial',\n AnnData object with n_obs × n_vars = 112639 × 28108\n     obs: 'Annotation', 'SliceID'\n     uns: '__type', 'pp'\n     obsm: 'spatial', 'raw_spatial',\n AnnData object with n_obs × n_vars = 100114 × 26652\n     obs: 'Annotation', 'SliceID'\n     uns: '__type', 'pp'\n     obsm: 'spatial', 'raw_spatial',\n AnnData object with n_obs × n_vars = 87822 × 27474\n     obs: 'Annotation', 'SliceID'\n     uns: '__type', 'pp'\n     obsm: 'spatial', 'raw_spatial',\n AnnData object with n_obs × n_vars = 109862 × 27642\n     obs: 'Annotation', 'SliceID'\n     uns: '__type', 'pp'\n     obsm: 'spatial', 'raw_spatial',\n AnnData object with n_obs × n_vars = 111335 × 27510\n     obs: 'Annotation', 'SliceID'\n     uns: '__type', 'pp'\n     obsm: 'spatial', 'raw_spatial',\n AnnData object with n_obs × n_vars = 64968 × 26577\n     obs: 'Annotation', 'SliceID'\n     uns: '__type', 'pp'\n     obsm: 'spatial', 'raw_spatial',\n AnnData object with n_obs × n_vars = 4858 × 25122\n     obs: 'Annotation', 'SliceID'\n     uns: '__type', 'pp'\n     obsm: 'spatial', 'raw_spatial',\n AnnData object with n_obs × n_vars = 69231 × 25666\n     obs: 'Annotation', 'SliceID'\n     uns: '__type', 'pp'\n     obsm: 'spatial', 'raw_spatial',\n AnnData object with n_obs × n_vars = 85027 × 25960\n     obs: 'Annotation', 'SliceID'\n     uns: '__type', 'pp'\n     obsm: 'spatial', 'raw_spatial',\n AnnData object with n_obs × n_vars = 110747 × 26822\n     obs: 'Annotation', 'SliceID'\n     uns: '__type', 'pp'\n     obsm: 'spatial', 'raw_spatial',\n AnnData object with n_obs × n_vars = 103608 × 26701\n     obs: 'Annotation', 'SliceID'\n     uns: '__type', 'pp'\n     obsm: 'spatial', 'raw_spatial',\n AnnData object with n_obs × n_vars = 91353 × 25885\n     obs: 'Annotation', 'SliceID'\n     uns: '__type', 'pp'\n     obsm: 'spatial', 'raw_spatial',\n AnnData object with n_obs × n_vars = 94410 × 27406\n     obs: 'Annotation', 'SliceID'\n     uns: '__type', 'pp'\n     obsm: 'spatial', 'raw_spatial',\n AnnData object with n_obs × n_vars = 95101 × 27919\n     obs: 'Annotation', 'SliceID'\n     uns: '__type', 'pp'\n     obsm: 'spatial', 'raw_spatial',\n AnnData object with n_obs × n_vars = 77758 × 25933\n     obs: 'Annotation', 'SliceID'\n     uns: '__type', 'pp'\n     obsm: 'spatial', 'raw_spatial',\n AnnData object with n_obs × n_vars = 78131 × 25177\n     obs: 'Annotation', 'SliceID'\n     uns: '__type', 'pp'\n     obsm: 'spatial', 'raw_spatial',\n AnnData object with n_obs × n_vars = 67160 × 25343\n     obs: 'Annotation', 'SliceID'\n     uns: '__type', 'pp'\n     obsm: 'spatial', 'raw_spatial',\n AnnData object with n_obs × n_vars = 59331 × 25592\n     obs: 'Annotation', 'SliceID'\n     uns: '__type', 'pp'\n     obsm: 'spatial', 'raw_spatial',\n AnnData object with n_obs × n_vars = 77244 × 27379\n     obs: 'Annotation', 'SliceID'\n     uns: '__type', 'pp'\n     obsm: 'spatial', 'raw_spatial',\n AnnData object with n_obs × n_vars = 93582 × 27536\n     obs: 'Annotation', 'SliceID'\n     uns: '__type', 'pp'\n     obsm: 'spatial', 'raw_spatial',\n AnnData object with n_obs × n_vars = 88530 × 27582\n     obs: 'Annotation', 'SliceID'\n     uns: '__type', 'pp'\n     obsm: 'spatial', 'raw_spatial',\n AnnData object with n_obs × n_vars = 83223 × 26784\n     obs: 'Annotation', 'SliceID'\n     uns: '__type', 'pp'\n     obsm: 'spatial', 'raw_spatial',\n AnnData object with n_obs × n_vars = 84572 × 26848\n     obs: 'Annotation', 'SliceID'\n     uns: '__type', 'pp'\n     obsm: 'spatial', 'raw_spatial',\n AnnData object with n_obs × n_vars = 83259 × 27109\n     obs: 'Annotation', 'SliceID'\n     uns: '__type', 'pp'\n     obsm: 'spatial', 'raw_spatial',\n AnnData object with n_obs × n_vars = 105457 × 27563\n     obs: 'Annotation', 'SliceID'\n     uns: '__type', 'pp'\n     obsm: 'spatial', 'raw_spatial',\n AnnData object with n_obs × n_vars = 49950 × 26470\n     obs: 'Annotation', 'SliceID'\n     uns: '__type', 'pp'\n     obsm: 'spatial', 'raw_spatial',\n AnnData object with n_obs × n_vars = 34269 × 27287\n     obs: 'Annotation', 'SliceID'\n     uns: '__type', 'pp'\n     obsm: 'spatial', 'raw_spatial',\n AnnData object with n_obs × n_vars = 33061 × 27467\n     obs: 'Annotation', 'SliceID'\n     uns: '__type', 'pp'\n     obsm: 'spatial', 'raw_spatial',\n AnnData object with n_obs × n_vars = 42784 × 27327\n     obs: 'Annotation', 'SliceID'\n     uns: '__type', 'pp'\n     obsm: 'spatial', 'raw_spatial',\n AnnData object with n_obs × n_vars = 37487 × 28793\n     obs: 'Annotation', 'SliceID'\n     uns: '__type', 'pp'\n     obsm: 'spatial', 'raw_spatial',\n AnnData object with n_obs × n_vars = 43864 × 28838\n     obs: 'Annotation', 'SliceID'\n     uns: '__type', 'pp'\n     obsm: 'spatial', 'raw_spatial',\n AnnData object with n_obs × n_vars = 48297 × 28970\n     obs: 'Annotation', 'SliceID'\n     uns: '__type', 'pp'\n     obsm: 'spatial', 'raw_spatial',\n AnnData object with n_obs × n_vars = 63141 × 29053\n     obs: 'Annotation', 'SliceID'\n     uns: '__type', 'pp'\n     obsm: 'spatial', 'raw_spatial',\n AnnData object with n_obs × n_vars = 72619 × 27790\n     obs: 'Annotation', 'SliceID'\n     uns: '__type', 'pp'\n     obsm: 'spatial', 'raw_spatial',\n AnnData object with n_obs × n_vars = 70960 × 26614\n     obs: 'Annotation', 'SliceID'\n     uns: '__type', 'pp'\n     obsm: 'spatial', 'raw_spatial',\n AnnData object with n_obs × n_vars = 99886 × 27770\n     obs: 'Annotation', 'SliceID'\n     uns: '__type', 'pp'\n     obsm: 'spatial', 'raw_spatial',\n AnnData object with n_obs × n_vars = 63304 × 26328\n     obs: 'Annotation', 'SliceID'\n     uns: '__type', 'pp'\n     obsm: 'spatial', 'raw_spatial',\n AnnData object with n_obs × n_vars = 69811 × 27614\n     obs: 'Annotation', 'SliceID'\n     uns: '__type', 'pp'\n     obsm: 'spatial', 'raw_spatial',\n AnnData object with n_obs × n_vars = 61079 × 27492\n     obs: 'Annotation', 'SliceID'\n     uns: '__type', 'pp'\n     obsm: 'spatial', 'raw_spatial',\n AnnData object with n_obs × n_vars = 49208 × 27081\n     obs: 'Annotation', 'SliceID'\n     uns: '__type', 'pp'\n     obsm: 'spatial', 'raw_spatial',\n AnnData object with n_obs × n_vars = 69209 × 26594\n     obs: 'Annotation', 'SliceID'\n     uns: '__type', 'pp'\n     obsm: 'spatial', 'raw_spatial',\n AnnData object with n_obs × n_vars = 61474 × 25407\n     obs: 'Annotation', 'SliceID'\n     uns: '__type', 'pp'\n     obsm: 'spatial', 'raw_spatial',\n AnnData object with n_obs × n_vars = 77274 × 26144\n     obs: 'Annotation', 'SliceID'\n     uns: '__type', 'pp'\n     obsm: 'spatial', 'raw_spatial']"
     },
     "execution_count": 4,
     "metadata": {},
     "output_type": "execute_result"
    }
   ],
   "source": [
    "slices = []\n",
    "for fn in files:\n",
    "    slice_id = str(fn).split(\"_\")[3]\n",
    "\n",
    "    adata = st.read_h5ad(os.path.join(folder, fn))\n",
    "    adata.obs.columns = [\"Annotation\"]\n",
    "    adata.obs[\"SliceID\"] = f\"Slice_{slice_id[1:]}\"\n",
    "    adata.obs.index = adata.obs[\"SliceID\"] + \"-\" + adata.obs.index\n",
    "    del adata.uns\n",
    "    adata.uns[\"__type\"] = \"UMI\"\n",
    "    adata.uns[\"pp\"] = {}\n",
    "    raw_spatial = np.c_[adata.obsm[\"spatial\"][:, :2] * 0.5, adata.obsm[\"spatial\"][:, 2]]\n",
    "    align_spatial = np.c_[adata.obsm[\"z_correction\"][:, :2] * 0.5, adata.obsm[\"z_correction\"][:, 2]]\n",
    "    del adata.obsm\n",
    "    adata.obsm[\"spatial\"] = align_spatial\n",
    "    adata.obsm[\"raw_spatial\"] = raw_spatial\n",
    "    slices.append(adata)\n",
    "    print(adata)\n",
    "slices"
   ],
   "metadata": {
    "collapsed": false,
    "ExecuteTime": {
     "end_time": "2023-07-12T16:07:33.953600999Z",
     "start_time": "2023-07-12T16:01:58.090717657Z"
    }
   }
  },
  {
   "cell_type": "code",
   "execution_count": 5,
   "outputs": [
    {
     "data": {
      "text/plain": "AnnData object with n_obs × n_vars = 7830602 × 29798\n    obs: 'Annotation', 'SliceID'\n    uns: '__type', 'pp'\n    obsm: 'spatial', 'raw_spatial'"
     },
     "execution_count": 5,
     "metadata": {},
     "output_type": "execute_result"
    }
   ],
   "source": [
    "combined_adata = ad.concat(slices, fill_value=0, join=\"outer\")\n",
    "combined_adata = combined_adata[combined_adata.X.sum(axis=1) != 0, combined_adata.X.sum(axis=0) != 0]\n",
    "combined_adata.obsm[\"spatial\"] = combined_adata.obsm[\"spatial\"] - combined_adata.obsm[\"spatial\"].min(axis=0)\n",
    "combined_adata.obsm[\"raw_spatial\"] = combined_adata.obsm[\"raw_spatial\"] - combined_adata.obsm[\"raw_spatial\"].min(axis=0)\n",
    "combined_adata.uns[\"__type\"] = \"UMI\"\n",
    "combined_adata.uns[\"pp\"] = {}\n",
    "combined_adata"
   ],
   "metadata": {
    "collapsed": false,
    "ExecuteTime": {
     "end_time": "2023-07-12T16:08:36.992268434Z",
     "start_time": "2023-07-12T16:07:33.965140868Z"
    }
   }
  },
  {
   "cell_type": "markdown",
   "source": [
    "## Spateo-viewer data"
   ],
   "metadata": {
    "collapsed": false
   }
  },
  {
   "cell_type": "code",
   "execution_count": null,
   "outputs": [],
   "source": [
    "import scanpy as sc\n",
    "hvg_adata = combined_adata.copy()\n",
    "del hvg_adata.layers\n",
    "sc.experimental.pp.highly_variable_genes(hvg_adata, n_top_genes=3000)\n",
    "hvg_adata = hvg_adata[:, hvg_adata.var.highly_variable].copy()\n",
    "# hvg_adata.write_h5ad(\"h5ad/mouse_E115_combined_hvg.h5ad\", compression=\"gzip\")"
   ],
   "metadata": {
    "collapsed": false,
    "is_executing": true,
    "ExecuteTime": {
     "start_time": "2023-07-12T16:08:36.993603679Z"
    }
   }
  },
  {
   "cell_type": "code",
   "execution_count": null,
   "outputs": [],
   "source": [
    "np.random.seed(19491001)\n",
    "sampling = np.random.choice(np.asarray(hvg_adata.obs_names), size=100000, replace=False)\n",
    "hvg_adata_10k = hvg_adata[sampling, :]\n",
    "hvg_adata_10k = hvg_adata_10k[hvg_adata_10k.X.sum(axis=1) != 0, hvg_adata_10k.X.sum(axis=0) != 0]\n",
    "hvg_adata_10k.write_h5ad(\"h5ad/mouse_E115_combined_hvg_10k.h5ad\", compression=\"gzip\")"
   ],
   "metadata": {
    "collapsed": false,
    "is_executing": true
   }
  },
  {
   "cell_type": "code",
   "execution_count": null,
   "outputs": [],
   "source": [
    "np.random.seed(19491001)\n",
    "sampling = np.random.choice(np.asarray(hvg_adata.obs_names), size=300000, replace=False)\n",
    "hvg_adata_30k = hvg_adata[sampling, :]\n",
    "hvg_adata_30k = hvg_adata_30k[hvg_adata_30k.X.sum(axis=1) != 0, hvg_adata_30k.X.sum(axis=0) != 0]\n",
    "hvg_adata_30k.write_h5ad(\"h5ad/mouse_E115_combined_hvg_30k.h5ad\", compression=\"gzip\")"
   ],
   "metadata": {
    "collapsed": false,
    "is_executing": true
   }
  },
  {
   "cell_type": "code",
   "execution_count": 10,
   "outputs": [],
   "source": [],
   "metadata": {
    "collapsed": false,
    "ExecuteTime": {
     "end_time": "2023-07-11T17:03:59.993450882Z",
     "start_time": "2023-07-11T17:03:59.992669174Z"
    }
   }
  }
 ],
 "metadata": {
  "kernelspec": {
   "display_name": "Python 3",
   "language": "python",
   "name": "python3"
  },
  "language_info": {
   "codemirror_mode": {
    "name": "ipython",
    "version": 2
   },
   "file_extension": ".py",
   "mimetype": "text/x-python",
   "name": "python",
   "nbconvert_exporter": "python",
   "pygments_lexer": "ipython2",
   "version": "2.7.6"
  }
 },
 "nbformat": 4,
 "nbformat_minor": 0
}
